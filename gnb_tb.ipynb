{
  "nbformat": 4,
  "nbformat_minor": 0,
  "metadata": {
    "colab": {
      "name": "gnb_tb.ipynb",
      "provenance": [],
      "include_colab_link": true
    },
    "kernelspec": {
      "name": "python3",
      "display_name": "Python 3"
    },
    "language_info": {
      "name": "python"
    }
  },
  "cells": [
    {
      "cell_type": "markdown",
      "metadata": {
        "id": "view-in-github",
        "colab_type": "text"
      },
      "source": [
        "<a href=\"https://colab.research.google.com/github/1911521010UlfatmiHanifa/Kelompok7-APM/blob/main/gnb_tb.ipynb\" target=\"_parent\"><img src=\"https://colab.research.google.com/assets/colab-badge.svg\" alt=\"Open In Colab\"/></a>"
      ]
    },
    {
      "cell_type": "code",
      "execution_count": null,
      "metadata": {
        "id": "Sdgh0lBQlt5E"
      },
      "outputs": [],
      "source": [
        "#IMPORT LIBRARY YANG DIBUTUHKAN\n",
        "import pandas as pd # UNTUK MEMANIPULASI DATA (MEMBACA DATA CSV)\n",
        "import numpy as np # UNTUK MANUPULASI DATA (MENGUBAH LIST MENJADI ARRAY)\n",
        "import missingno as msno #MENGIDENTIFIKASI DATA BERNILAI NULL\n",
        "import seaborn as sns #MENAMPILKAN GRAFIK\n",
        "import matplotlib.pyplot as plt #MENAMPILKAN GRAFIK\n",
        "\n",
        "from sklearn.model_selection import train_test_split # UNTUK MEMISAHKAN ANTARA DATA TEST DAN DATA TRAINING\n",
        "from sklearn.metrics import classification_report # UNTUK MELAKUKAN EVALUASI MODEL MATRIKS\n",
        "from sklearn import tree # UNTUK MODEL DECISION TREE\n",
        "\n",
        "import plotly.express as px  # UNTUK VISUALISASI DATA\n",
        "import plotly.graph_objects as go # UNTUK VISUALISASI DATA\n",
        "import graphviz # UNTUK PLOT DESICION TREE\n",
        "from sklearn.metrics import classification_report, accuracy_score, roc_curve, roc_auc_score, confusion_matrix # UNTUK MELAKUKAN EVALUASI MODEL MATRIKS"
      ]
    },
    {
      "cell_type": "code",
      "source": [
        "#IMPORT DATASET DAN MENAMPILKAN DATASET\n",
        "dataset = pd.read_csv('data.csv')\n",
        "dataset"
      ],
      "metadata": {
        "colab": {
          "base_uri": "https://localhost:8080/",
          "height": 624
        },
        "id": "FLz0X7runlWd",
        "outputId": "7478c56e-a996-4c3c-8392-e25eaabf3bcf"
      },
      "execution_count": null,
      "outputs": [
        {
          "output_type": "execute_result",
          "data": {
            "text/plain": [
              "      no                 nama_lengkap jenis_kelamin     kelurahan  \\\n",
              "0      1         Budy Hartono Santosa     Laki-laki    Aia Bangih   \n",
              "1      2                Eddi Sugiardi     Laki-laki    Aia Bangih   \n",
              "2      3               Efrem Wardhana     Laki-laki    Aia Bangih   \n",
              "3      4             Eko Prasetyo Ang     Laki-laki    Aia Bangih   \n",
              "4      5                         Evan     Laki-laki    Aia Bangih   \n",
              "..   ...                          ...           ...           ...   \n",
              "295  296           Katharina Wihardja     Perempuan  Ujung Gading   \n",
              "296  297                 Mohamad Noer     Laki-laki  Ujung Gading   \n",
              "297  298       Mohammad Hidayat Hasan     Laki-laki  Ujung Gading   \n",
              "298  299  Wahjudin Judiana Ardiwinata     Laki-laki  Ujung Gading   \n",
              "299  300                  Yudi Astono     Laki-laki  Ujung Gading   \n",
              "\n",
              "     penghasilan  jumlah_penghuni      kondisi_dinding kondisi_lantai  \\\n",
              "0        5570000                8         Rusak Sedang    Rusak Berat   \n",
              "1        6920000                1          Rusak Berat    Rusak Berat   \n",
              "2        9460000                9         Rusak Ringan   Rusak Sedang   \n",
              "3         880000                8         Rusak Ringan   Rusak Sedang   \n",
              "4        4770000               12  Rusak Sangat Ringan   Rusak Ringan   \n",
              "..           ...              ...                  ...            ...   \n",
              "295      3740000               11  Rusak Sangat Ringan   Rusak Ringan   \n",
              "296      2110000                9         Rusak Sedang    Rusak Berat   \n",
              "297      4190000                4         Rusak Sedang    Rusak Berat   \n",
              "298      5020000               12   Rusak Sangat Berat    Rusak Berat   \n",
              "299      5630000                1         Rusak Ringan   Rusak Sedang   \n",
              "\n",
              "            kondisi_atap status_penerimaan  \n",
              "0    Rusak Sangat Ringan             Tidak  \n",
              "1            Rusak Berat                Ya  \n",
              "2     Rusak Sangat Berat             Tidak  \n",
              "3     Rusak Sangat Berat             Tidak  \n",
              "4    Rusak Sangat Ringan             Tidak  \n",
              "..                   ...               ...  \n",
              "295  Rusak Sangat Ringan             Tidak  \n",
              "296   Rusak Sangat Berat             Tidak  \n",
              "297  Rusak Sangat Ringan             Tidak  \n",
              "298   Rusak Sangat Berat                Ya  \n",
              "299          Rusak Berat                Ya  \n",
              "\n",
              "[300 rows x 10 columns]"
            ],
            "text/html": [
              "\n",
              "  <div id=\"df-c11062e1-a4fa-4c87-8b6a-a5d72a2c1aff\">\n",
              "    <div class=\"colab-df-container\">\n",
              "      <div>\n",
              "<style scoped>\n",
              "    .dataframe tbody tr th:only-of-type {\n",
              "        vertical-align: middle;\n",
              "    }\n",
              "\n",
              "    .dataframe tbody tr th {\n",
              "        vertical-align: top;\n",
              "    }\n",
              "\n",
              "    .dataframe thead th {\n",
              "        text-align: right;\n",
              "    }\n",
              "</style>\n",
              "<table border=\"1\" class=\"dataframe\">\n",
              "  <thead>\n",
              "    <tr style=\"text-align: right;\">\n",
              "      <th></th>\n",
              "      <th>no</th>\n",
              "      <th>nama_lengkap</th>\n",
              "      <th>jenis_kelamin</th>\n",
              "      <th>kelurahan</th>\n",
              "      <th>penghasilan</th>\n",
              "      <th>jumlah_penghuni</th>\n",
              "      <th>kondisi_dinding</th>\n",
              "      <th>kondisi_lantai</th>\n",
              "      <th>kondisi_atap</th>\n",
              "      <th>status_penerimaan</th>\n",
              "    </tr>\n",
              "  </thead>\n",
              "  <tbody>\n",
              "    <tr>\n",
              "      <th>0</th>\n",
              "      <td>1</td>\n",
              "      <td>Budy Hartono Santosa</td>\n",
              "      <td>Laki-laki</td>\n",
              "      <td>Aia Bangih</td>\n",
              "      <td>5570000</td>\n",
              "      <td>8</td>\n",
              "      <td>Rusak Sedang</td>\n",
              "      <td>Rusak Berat</td>\n",
              "      <td>Rusak Sangat Ringan</td>\n",
              "      <td>Tidak</td>\n",
              "    </tr>\n",
              "    <tr>\n",
              "      <th>1</th>\n",
              "      <td>2</td>\n",
              "      <td>Eddi Sugiardi</td>\n",
              "      <td>Laki-laki</td>\n",
              "      <td>Aia Bangih</td>\n",
              "      <td>6920000</td>\n",
              "      <td>1</td>\n",
              "      <td>Rusak Berat</td>\n",
              "      <td>Rusak Berat</td>\n",
              "      <td>Rusak Berat</td>\n",
              "      <td>Ya</td>\n",
              "    </tr>\n",
              "    <tr>\n",
              "      <th>2</th>\n",
              "      <td>3</td>\n",
              "      <td>Efrem Wardhana</td>\n",
              "      <td>Laki-laki</td>\n",
              "      <td>Aia Bangih</td>\n",
              "      <td>9460000</td>\n",
              "      <td>9</td>\n",
              "      <td>Rusak Ringan</td>\n",
              "      <td>Rusak Sedang</td>\n",
              "      <td>Rusak Sangat Berat</td>\n",
              "      <td>Tidak</td>\n",
              "    </tr>\n",
              "    <tr>\n",
              "      <th>3</th>\n",
              "      <td>4</td>\n",
              "      <td>Eko Prasetyo Ang</td>\n",
              "      <td>Laki-laki</td>\n",
              "      <td>Aia Bangih</td>\n",
              "      <td>880000</td>\n",
              "      <td>8</td>\n",
              "      <td>Rusak Ringan</td>\n",
              "      <td>Rusak Sedang</td>\n",
              "      <td>Rusak Sangat Berat</td>\n",
              "      <td>Tidak</td>\n",
              "    </tr>\n",
              "    <tr>\n",
              "      <th>4</th>\n",
              "      <td>5</td>\n",
              "      <td>Evan</td>\n",
              "      <td>Laki-laki</td>\n",
              "      <td>Aia Bangih</td>\n",
              "      <td>4770000</td>\n",
              "      <td>12</td>\n",
              "      <td>Rusak Sangat Ringan</td>\n",
              "      <td>Rusak Ringan</td>\n",
              "      <td>Rusak Sangat Ringan</td>\n",
              "      <td>Tidak</td>\n",
              "    </tr>\n",
              "    <tr>\n",
              "      <th>...</th>\n",
              "      <td>...</td>\n",
              "      <td>...</td>\n",
              "      <td>...</td>\n",
              "      <td>...</td>\n",
              "      <td>...</td>\n",
              "      <td>...</td>\n",
              "      <td>...</td>\n",
              "      <td>...</td>\n",
              "      <td>...</td>\n",
              "      <td>...</td>\n",
              "    </tr>\n",
              "    <tr>\n",
              "      <th>295</th>\n",
              "      <td>296</td>\n",
              "      <td>Katharina Wihardja</td>\n",
              "      <td>Perempuan</td>\n",
              "      <td>Ujung Gading</td>\n",
              "      <td>3740000</td>\n",
              "      <td>11</td>\n",
              "      <td>Rusak Sangat Ringan</td>\n",
              "      <td>Rusak Ringan</td>\n",
              "      <td>Rusak Sangat Ringan</td>\n",
              "      <td>Tidak</td>\n",
              "    </tr>\n",
              "    <tr>\n",
              "      <th>296</th>\n",
              "      <td>297</td>\n",
              "      <td>Mohamad Noer</td>\n",
              "      <td>Laki-laki</td>\n",
              "      <td>Ujung Gading</td>\n",
              "      <td>2110000</td>\n",
              "      <td>9</td>\n",
              "      <td>Rusak Sedang</td>\n",
              "      <td>Rusak Berat</td>\n",
              "      <td>Rusak Sangat Berat</td>\n",
              "      <td>Tidak</td>\n",
              "    </tr>\n",
              "    <tr>\n",
              "      <th>297</th>\n",
              "      <td>298</td>\n",
              "      <td>Mohammad Hidayat Hasan</td>\n",
              "      <td>Laki-laki</td>\n",
              "      <td>Ujung Gading</td>\n",
              "      <td>4190000</td>\n",
              "      <td>4</td>\n",
              "      <td>Rusak Sedang</td>\n",
              "      <td>Rusak Berat</td>\n",
              "      <td>Rusak Sangat Ringan</td>\n",
              "      <td>Tidak</td>\n",
              "    </tr>\n",
              "    <tr>\n",
              "      <th>298</th>\n",
              "      <td>299</td>\n",
              "      <td>Wahjudin Judiana Ardiwinata</td>\n",
              "      <td>Laki-laki</td>\n",
              "      <td>Ujung Gading</td>\n",
              "      <td>5020000</td>\n",
              "      <td>12</td>\n",
              "      <td>Rusak Sangat Berat</td>\n",
              "      <td>Rusak Berat</td>\n",
              "      <td>Rusak Sangat Berat</td>\n",
              "      <td>Ya</td>\n",
              "    </tr>\n",
              "    <tr>\n",
              "      <th>299</th>\n",
              "      <td>300</td>\n",
              "      <td>Yudi Astono</td>\n",
              "      <td>Laki-laki</td>\n",
              "      <td>Ujung Gading</td>\n",
              "      <td>5630000</td>\n",
              "      <td>1</td>\n",
              "      <td>Rusak Ringan</td>\n",
              "      <td>Rusak Sedang</td>\n",
              "      <td>Rusak Berat</td>\n",
              "      <td>Ya</td>\n",
              "    </tr>\n",
              "  </tbody>\n",
              "</table>\n",
              "<p>300 rows × 10 columns</p>\n",
              "</div>\n",
              "      <button class=\"colab-df-convert\" onclick=\"convertToInteractive('df-c11062e1-a4fa-4c87-8b6a-a5d72a2c1aff')\"\n",
              "              title=\"Convert this dataframe to an interactive table.\"\n",
              "              style=\"display:none;\">\n",
              "        \n",
              "  <svg xmlns=\"http://www.w3.org/2000/svg\" height=\"24px\"viewBox=\"0 0 24 24\"\n",
              "       width=\"24px\">\n",
              "    <path d=\"M0 0h24v24H0V0z\" fill=\"none\"/>\n",
              "    <path d=\"M18.56 5.44l.94 2.06.94-2.06 2.06-.94-2.06-.94-.94-2.06-.94 2.06-2.06.94zm-11 1L8.5 8.5l.94-2.06 2.06-.94-2.06-.94L8.5 2.5l-.94 2.06-2.06.94zm10 10l.94 2.06.94-2.06 2.06-.94-2.06-.94-.94-2.06-.94 2.06-2.06.94z\"/><path d=\"M17.41 7.96l-1.37-1.37c-.4-.4-.92-.59-1.43-.59-.52 0-1.04.2-1.43.59L10.3 9.45l-7.72 7.72c-.78.78-.78 2.05 0 2.83L4 21.41c.39.39.9.59 1.41.59.51 0 1.02-.2 1.41-.59l7.78-7.78 2.81-2.81c.8-.78.8-2.07 0-2.86zM5.41 20L4 18.59l7.72-7.72 1.47 1.35L5.41 20z\"/>\n",
              "  </svg>\n",
              "      </button>\n",
              "      \n",
              "  <style>\n",
              "    .colab-df-container {\n",
              "      display:flex;\n",
              "      flex-wrap:wrap;\n",
              "      gap: 12px;\n",
              "    }\n",
              "\n",
              "    .colab-df-convert {\n",
              "      background-color: #E8F0FE;\n",
              "      border: none;\n",
              "      border-radius: 50%;\n",
              "      cursor: pointer;\n",
              "      display: none;\n",
              "      fill: #1967D2;\n",
              "      height: 32px;\n",
              "      padding: 0 0 0 0;\n",
              "      width: 32px;\n",
              "    }\n",
              "\n",
              "    .colab-df-convert:hover {\n",
              "      background-color: #E2EBFA;\n",
              "      box-shadow: 0px 1px 2px rgba(60, 64, 67, 0.3), 0px 1px 3px 1px rgba(60, 64, 67, 0.15);\n",
              "      fill: #174EA6;\n",
              "    }\n",
              "\n",
              "    [theme=dark] .colab-df-convert {\n",
              "      background-color: #3B4455;\n",
              "      fill: #D2E3FC;\n",
              "    }\n",
              "\n",
              "    [theme=dark] .colab-df-convert:hover {\n",
              "      background-color: #434B5C;\n",
              "      box-shadow: 0px 1px 3px 1px rgba(0, 0, 0, 0.15);\n",
              "      filter: drop-shadow(0px 1px 2px rgba(0, 0, 0, 0.3));\n",
              "      fill: #FFFFFF;\n",
              "    }\n",
              "  </style>\n",
              "\n",
              "      <script>\n",
              "        const buttonEl =\n",
              "          document.querySelector('#df-c11062e1-a4fa-4c87-8b6a-a5d72a2c1aff button.colab-df-convert');\n",
              "        buttonEl.style.display =\n",
              "          google.colab.kernel.accessAllowed ? 'block' : 'none';\n",
              "\n",
              "        async function convertToInteractive(key) {\n",
              "          const element = document.querySelector('#df-c11062e1-a4fa-4c87-8b6a-a5d72a2c1aff');\n",
              "          const dataTable =\n",
              "            await google.colab.kernel.invokeFunction('convertToInteractive',\n",
              "                                                     [key], {});\n",
              "          if (!dataTable) return;\n",
              "\n",
              "          const docLinkHtml = 'Like what you see? Visit the ' +\n",
              "            '<a target=\"_blank\" href=https://colab.research.google.com/notebooks/data_table.ipynb>data table notebook</a>'\n",
              "            + ' to learn more about interactive tables.';\n",
              "          element.innerHTML = '';\n",
              "          dataTable['output_type'] = 'display_data';\n",
              "          await google.colab.output.renderOutput(dataTable, element);\n",
              "          const docLink = document.createElement('div');\n",
              "          docLink.innerHTML = docLinkHtml;\n",
              "          element.appendChild(docLink);\n",
              "        }\n",
              "      </script>\n",
              "    </div>\n",
              "  </div>\n",
              "  "
            ]
          },
          "metadata": {},
          "execution_count": 29
        }
      ]
    },
    {
      "cell_type": "code",
      "source": [
        "#MENGHITUNG UKURAN DATASET\n",
        "dataset.shape"
      ],
      "metadata": {
        "colab": {
          "base_uri": "https://localhost:8080/"
        },
        "id": "AzZpV7DdnsdR",
        "outputId": "05ddac98-991a-46ae-e2b1-99867f630935"
      },
      "execution_count": null,
      "outputs": [
        {
          "output_type": "execute_result",
          "data": {
            "text/plain": [
              "(300, 10)"
            ]
          },
          "metadata": {},
          "execution_count": 30
        }
      ]
    },
    {
      "cell_type": "code",
      "source": [
        "#MELIHAT INFO DATASET\n",
        "dataset.info()"
      ],
      "metadata": {
        "colab": {
          "base_uri": "https://localhost:8080/"
        },
        "id": "Avd5foFDnyxM",
        "outputId": "2ecda1ed-4928-4c52-ba58-865c608eb6cb"
      },
      "execution_count": null,
      "outputs": [
        {
          "output_type": "stream",
          "name": "stdout",
          "text": [
            "<class 'pandas.core.frame.DataFrame'>\n",
            "RangeIndex: 300 entries, 0 to 299\n",
            "Data columns (total 10 columns):\n",
            " #   Column             Non-Null Count  Dtype \n",
            "---  ------             --------------  ----- \n",
            " 0   no                 300 non-null    int64 \n",
            " 1   nama_lengkap       300 non-null    object\n",
            " 2   jenis_kelamin      300 non-null    object\n",
            " 3   kelurahan          300 non-null    object\n",
            " 4   penghasilan        300 non-null    int64 \n",
            " 5   jumlah_penghuni    300 non-null    int64 \n",
            " 6   kondisi_dinding    300 non-null    object\n",
            " 7   kondisi_lantai     300 non-null    object\n",
            " 8   kondisi_atap       300 non-null    object\n",
            " 9   status_penerimaan  300 non-null    object\n",
            "dtypes: int64(3), object(7)\n",
            "memory usage: 23.6+ KB\n"
          ]
        }
      ]
    },
    {
      "cell_type": "code",
      "source": [
        "#MELIHAT DESKRIPSI DATASET NUMERIK\n",
        "dataset.describe().T"
      ],
      "metadata": {
        "colab": {
          "base_uri": "https://localhost:8080/",
          "height": 143
        },
        "id": "1WZAZ_sUn6xH",
        "outputId": "576a36a0-cef2-4639-adc9-d5e1e3cceece"
      },
      "execution_count": null,
      "outputs": [
        {
          "output_type": "execute_result",
          "data": {
            "text/plain": [
              "                 count          mean           std      min         25%  \\\n",
              "no               300.0  1.505000e+02  8.674676e+01      1.0       75.75   \n",
              "penghasilan      300.0  5.234300e+06  2.939495e+06  70000.0  2545000.00   \n",
              "jumlah_penghuni  300.0  6.446667e+00  3.494930e+00      1.0        4.00   \n",
              "\n",
              "                       50%         75%        max  \n",
              "no                   150.5      225.25      300.0  \n",
              "penghasilan      5340000.0  7815000.00  9920000.0  \n",
              "jumlah_penghuni        6.0        9.00       12.0  "
            ],
            "text/html": [
              "\n",
              "  <div id=\"df-ca820f91-9474-4bb5-9f93-c3999dfef5a3\">\n",
              "    <div class=\"colab-df-container\">\n",
              "      <div>\n",
              "<style scoped>\n",
              "    .dataframe tbody tr th:only-of-type {\n",
              "        vertical-align: middle;\n",
              "    }\n",
              "\n",
              "    .dataframe tbody tr th {\n",
              "        vertical-align: top;\n",
              "    }\n",
              "\n",
              "    .dataframe thead th {\n",
              "        text-align: right;\n",
              "    }\n",
              "</style>\n",
              "<table border=\"1\" class=\"dataframe\">\n",
              "  <thead>\n",
              "    <tr style=\"text-align: right;\">\n",
              "      <th></th>\n",
              "      <th>count</th>\n",
              "      <th>mean</th>\n",
              "      <th>std</th>\n",
              "      <th>min</th>\n",
              "      <th>25%</th>\n",
              "      <th>50%</th>\n",
              "      <th>75%</th>\n",
              "      <th>max</th>\n",
              "    </tr>\n",
              "  </thead>\n",
              "  <tbody>\n",
              "    <tr>\n",
              "      <th>no</th>\n",
              "      <td>300.0</td>\n",
              "      <td>1.505000e+02</td>\n",
              "      <td>8.674676e+01</td>\n",
              "      <td>1.0</td>\n",
              "      <td>75.75</td>\n",
              "      <td>150.5</td>\n",
              "      <td>225.25</td>\n",
              "      <td>300.0</td>\n",
              "    </tr>\n",
              "    <tr>\n",
              "      <th>penghasilan</th>\n",
              "      <td>300.0</td>\n",
              "      <td>5.234300e+06</td>\n",
              "      <td>2.939495e+06</td>\n",
              "      <td>70000.0</td>\n",
              "      <td>2545000.00</td>\n",
              "      <td>5340000.0</td>\n",
              "      <td>7815000.00</td>\n",
              "      <td>9920000.0</td>\n",
              "    </tr>\n",
              "    <tr>\n",
              "      <th>jumlah_penghuni</th>\n",
              "      <td>300.0</td>\n",
              "      <td>6.446667e+00</td>\n",
              "      <td>3.494930e+00</td>\n",
              "      <td>1.0</td>\n",
              "      <td>4.00</td>\n",
              "      <td>6.0</td>\n",
              "      <td>9.00</td>\n",
              "      <td>12.0</td>\n",
              "    </tr>\n",
              "  </tbody>\n",
              "</table>\n",
              "</div>\n",
              "      <button class=\"colab-df-convert\" onclick=\"convertToInteractive('df-ca820f91-9474-4bb5-9f93-c3999dfef5a3')\"\n",
              "              title=\"Convert this dataframe to an interactive table.\"\n",
              "              style=\"display:none;\">\n",
              "        \n",
              "  <svg xmlns=\"http://www.w3.org/2000/svg\" height=\"24px\"viewBox=\"0 0 24 24\"\n",
              "       width=\"24px\">\n",
              "    <path d=\"M0 0h24v24H0V0z\" fill=\"none\"/>\n",
              "    <path d=\"M18.56 5.44l.94 2.06.94-2.06 2.06-.94-2.06-.94-.94-2.06-.94 2.06-2.06.94zm-11 1L8.5 8.5l.94-2.06 2.06-.94-2.06-.94L8.5 2.5l-.94 2.06-2.06.94zm10 10l.94 2.06.94-2.06 2.06-.94-2.06-.94-.94-2.06-.94 2.06-2.06.94z\"/><path d=\"M17.41 7.96l-1.37-1.37c-.4-.4-.92-.59-1.43-.59-.52 0-1.04.2-1.43.59L10.3 9.45l-7.72 7.72c-.78.78-.78 2.05 0 2.83L4 21.41c.39.39.9.59 1.41.59.51 0 1.02-.2 1.41-.59l7.78-7.78 2.81-2.81c.8-.78.8-2.07 0-2.86zM5.41 20L4 18.59l7.72-7.72 1.47 1.35L5.41 20z\"/>\n",
              "  </svg>\n",
              "      </button>\n",
              "      \n",
              "  <style>\n",
              "    .colab-df-container {\n",
              "      display:flex;\n",
              "      flex-wrap:wrap;\n",
              "      gap: 12px;\n",
              "    }\n",
              "\n",
              "    .colab-df-convert {\n",
              "      background-color: #E8F0FE;\n",
              "      border: none;\n",
              "      border-radius: 50%;\n",
              "      cursor: pointer;\n",
              "      display: none;\n",
              "      fill: #1967D2;\n",
              "      height: 32px;\n",
              "      padding: 0 0 0 0;\n",
              "      width: 32px;\n",
              "    }\n",
              "\n",
              "    .colab-df-convert:hover {\n",
              "      background-color: #E2EBFA;\n",
              "      box-shadow: 0px 1px 2px rgba(60, 64, 67, 0.3), 0px 1px 3px 1px rgba(60, 64, 67, 0.15);\n",
              "      fill: #174EA6;\n",
              "    }\n",
              "\n",
              "    [theme=dark] .colab-df-convert {\n",
              "      background-color: #3B4455;\n",
              "      fill: #D2E3FC;\n",
              "    }\n",
              "\n",
              "    [theme=dark] .colab-df-convert:hover {\n",
              "      background-color: #434B5C;\n",
              "      box-shadow: 0px 1px 3px 1px rgba(0, 0, 0, 0.15);\n",
              "      filter: drop-shadow(0px 1px 2px rgba(0, 0, 0, 0.3));\n",
              "      fill: #FFFFFF;\n",
              "    }\n",
              "  </style>\n",
              "\n",
              "      <script>\n",
              "        const buttonEl =\n",
              "          document.querySelector('#df-ca820f91-9474-4bb5-9f93-c3999dfef5a3 button.colab-df-convert');\n",
              "        buttonEl.style.display =\n",
              "          google.colab.kernel.accessAllowed ? 'block' : 'none';\n",
              "\n",
              "        async function convertToInteractive(key) {\n",
              "          const element = document.querySelector('#df-ca820f91-9474-4bb5-9f93-c3999dfef5a3');\n",
              "          const dataTable =\n",
              "            await google.colab.kernel.invokeFunction('convertToInteractive',\n",
              "                                                     [key], {});\n",
              "          if (!dataTable) return;\n",
              "\n",
              "          const docLinkHtml = 'Like what you see? Visit the ' +\n",
              "            '<a target=\"_blank\" href=https://colab.research.google.com/notebooks/data_table.ipynb>data table notebook</a>'\n",
              "            + ' to learn more about interactive tables.';\n",
              "          element.innerHTML = '';\n",
              "          dataTable['output_type'] = 'display_data';\n",
              "          await google.colab.output.renderOutput(dataTable, element);\n",
              "          const docLink = document.createElement('div');\n",
              "          docLink.innerHTML = docLinkHtml;\n",
              "          element.appendChild(docLink);\n",
              "        }\n",
              "      </script>\n",
              "    </div>\n",
              "  </div>\n",
              "  "
            ]
          },
          "metadata": {},
          "execution_count": 32
        }
      ]
    },
    {
      "cell_type": "code",
      "source": [
        "#MELIHAT DESKRIPSI DATASET NON NUMERIK\n",
        "dataset.describe(exclude=['float64','int64']).T"
      ],
      "metadata": {
        "colab": {
          "base_uri": "https://localhost:8080/",
          "height": 269
        },
        "id": "E1eFPBGYn_zc",
        "outputId": "72bb6789-35a2-463e-aa9d-8b53937eaa1d"
      },
      "execution_count": null,
      "outputs": [
        {
          "output_type": "execute_result",
          "data": {
            "text/plain": [
              "                  count unique                 top freq\n",
              "nama_lengkap        300    299        Mohamad Noer    2\n",
              "jenis_kelamin       300      2           Laki-laki  225\n",
              "kelurahan           300     19         Aua Kuniang   21\n",
              "kondisi_dinding     300      5        Rusak Sedang   66\n",
              "kondisi_lantai      300      3         Rusak Berat  177\n",
              "kondisi_atap        300      5  Rusak Sangat Berat   69\n",
              "status_penerimaan   300      2               Tidak  200"
            ],
            "text/html": [
              "\n",
              "  <div id=\"df-01b82204-6b28-44d0-a690-5620e2557310\">\n",
              "    <div class=\"colab-df-container\">\n",
              "      <div>\n",
              "<style scoped>\n",
              "    .dataframe tbody tr th:only-of-type {\n",
              "        vertical-align: middle;\n",
              "    }\n",
              "\n",
              "    .dataframe tbody tr th {\n",
              "        vertical-align: top;\n",
              "    }\n",
              "\n",
              "    .dataframe thead th {\n",
              "        text-align: right;\n",
              "    }\n",
              "</style>\n",
              "<table border=\"1\" class=\"dataframe\">\n",
              "  <thead>\n",
              "    <tr style=\"text-align: right;\">\n",
              "      <th></th>\n",
              "      <th>count</th>\n",
              "      <th>unique</th>\n",
              "      <th>top</th>\n",
              "      <th>freq</th>\n",
              "    </tr>\n",
              "  </thead>\n",
              "  <tbody>\n",
              "    <tr>\n",
              "      <th>nama_lengkap</th>\n",
              "      <td>300</td>\n",
              "      <td>299</td>\n",
              "      <td>Mohamad Noer</td>\n",
              "      <td>2</td>\n",
              "    </tr>\n",
              "    <tr>\n",
              "      <th>jenis_kelamin</th>\n",
              "      <td>300</td>\n",
              "      <td>2</td>\n",
              "      <td>Laki-laki</td>\n",
              "      <td>225</td>\n",
              "    </tr>\n",
              "    <tr>\n",
              "      <th>kelurahan</th>\n",
              "      <td>300</td>\n",
              "      <td>19</td>\n",
              "      <td>Aua Kuniang</td>\n",
              "      <td>21</td>\n",
              "    </tr>\n",
              "    <tr>\n",
              "      <th>kondisi_dinding</th>\n",
              "      <td>300</td>\n",
              "      <td>5</td>\n",
              "      <td>Rusak Sedang</td>\n",
              "      <td>66</td>\n",
              "    </tr>\n",
              "    <tr>\n",
              "      <th>kondisi_lantai</th>\n",
              "      <td>300</td>\n",
              "      <td>3</td>\n",
              "      <td>Rusak Berat</td>\n",
              "      <td>177</td>\n",
              "    </tr>\n",
              "    <tr>\n",
              "      <th>kondisi_atap</th>\n",
              "      <td>300</td>\n",
              "      <td>5</td>\n",
              "      <td>Rusak Sangat Berat</td>\n",
              "      <td>69</td>\n",
              "    </tr>\n",
              "    <tr>\n",
              "      <th>status_penerimaan</th>\n",
              "      <td>300</td>\n",
              "      <td>2</td>\n",
              "      <td>Tidak</td>\n",
              "      <td>200</td>\n",
              "    </tr>\n",
              "  </tbody>\n",
              "</table>\n",
              "</div>\n",
              "      <button class=\"colab-df-convert\" onclick=\"convertToInteractive('df-01b82204-6b28-44d0-a690-5620e2557310')\"\n",
              "              title=\"Convert this dataframe to an interactive table.\"\n",
              "              style=\"display:none;\">\n",
              "        \n",
              "  <svg xmlns=\"http://www.w3.org/2000/svg\" height=\"24px\"viewBox=\"0 0 24 24\"\n",
              "       width=\"24px\">\n",
              "    <path d=\"M0 0h24v24H0V0z\" fill=\"none\"/>\n",
              "    <path d=\"M18.56 5.44l.94 2.06.94-2.06 2.06-.94-2.06-.94-.94-2.06-.94 2.06-2.06.94zm-11 1L8.5 8.5l.94-2.06 2.06-.94-2.06-.94L8.5 2.5l-.94 2.06-2.06.94zm10 10l.94 2.06.94-2.06 2.06-.94-2.06-.94-.94-2.06-.94 2.06-2.06.94z\"/><path d=\"M17.41 7.96l-1.37-1.37c-.4-.4-.92-.59-1.43-.59-.52 0-1.04.2-1.43.59L10.3 9.45l-7.72 7.72c-.78.78-.78 2.05 0 2.83L4 21.41c.39.39.9.59 1.41.59.51 0 1.02-.2 1.41-.59l7.78-7.78 2.81-2.81c.8-.78.8-2.07 0-2.86zM5.41 20L4 18.59l7.72-7.72 1.47 1.35L5.41 20z\"/>\n",
              "  </svg>\n",
              "      </button>\n",
              "      \n",
              "  <style>\n",
              "    .colab-df-container {\n",
              "      display:flex;\n",
              "      flex-wrap:wrap;\n",
              "      gap: 12px;\n",
              "    }\n",
              "\n",
              "    .colab-df-convert {\n",
              "      background-color: #E8F0FE;\n",
              "      border: none;\n",
              "      border-radius: 50%;\n",
              "      cursor: pointer;\n",
              "      display: none;\n",
              "      fill: #1967D2;\n",
              "      height: 32px;\n",
              "      padding: 0 0 0 0;\n",
              "      width: 32px;\n",
              "    }\n",
              "\n",
              "    .colab-df-convert:hover {\n",
              "      background-color: #E2EBFA;\n",
              "      box-shadow: 0px 1px 2px rgba(60, 64, 67, 0.3), 0px 1px 3px 1px rgba(60, 64, 67, 0.15);\n",
              "      fill: #174EA6;\n",
              "    }\n",
              "\n",
              "    [theme=dark] .colab-df-convert {\n",
              "      background-color: #3B4455;\n",
              "      fill: #D2E3FC;\n",
              "    }\n",
              "\n",
              "    [theme=dark] .colab-df-convert:hover {\n",
              "      background-color: #434B5C;\n",
              "      box-shadow: 0px 1px 3px 1px rgba(0, 0, 0, 0.15);\n",
              "      filter: drop-shadow(0px 1px 2px rgba(0, 0, 0, 0.3));\n",
              "      fill: #FFFFFF;\n",
              "    }\n",
              "  </style>\n",
              "\n",
              "      <script>\n",
              "        const buttonEl =\n",
              "          document.querySelector('#df-01b82204-6b28-44d0-a690-5620e2557310 button.colab-df-convert');\n",
              "        buttonEl.style.display =\n",
              "          google.colab.kernel.accessAllowed ? 'block' : 'none';\n",
              "\n",
              "        async function convertToInteractive(key) {\n",
              "          const element = document.querySelector('#df-01b82204-6b28-44d0-a690-5620e2557310');\n",
              "          const dataTable =\n",
              "            await google.colab.kernel.invokeFunction('convertToInteractive',\n",
              "                                                     [key], {});\n",
              "          if (!dataTable) return;\n",
              "\n",
              "          const docLinkHtml = 'Like what you see? Visit the ' +\n",
              "            '<a target=\"_blank\" href=https://colab.research.google.com/notebooks/data_table.ipynb>data table notebook</a>'\n",
              "            + ' to learn more about interactive tables.';\n",
              "          element.innerHTML = '';\n",
              "          dataTable['output_type'] = 'display_data';\n",
              "          await google.colab.output.renderOutput(dataTable, element);\n",
              "          const docLink = document.createElement('div');\n",
              "          docLink.innerHTML = docLinkHtml;\n",
              "          element.appendChild(docLink);\n",
              "        }\n",
              "      </script>\n",
              "    </div>\n",
              "  </div>\n",
              "  "
            ]
          },
          "metadata": {},
          "execution_count": 33
        }
      ]
    },
    {
      "cell_type": "code",
      "source": [
        "#PENGECEKAN NILAI NULL\n",
        "print ('Total Jumlah Data Pengamatan:', dataset.shape[0])\n",
        "msno.bar(dataset)\n",
        "dataset.isnull().sum()"
      ],
      "metadata": {
        "colab": {
          "base_uri": "https://localhost:8080/",
          "height": 833
        },
        "id": "aLoTsuaRoGgw",
        "outputId": "a0221b04-3b0d-44ef-f900-8ffd00b1eced"
      },
      "execution_count": null,
      "outputs": [
        {
          "output_type": "stream",
          "name": "stdout",
          "text": [
            "Total Jumlah Data Pengamatan: 300\n"
          ]
        },
        {
          "output_type": "execute_result",
          "data": {
            "text/plain": [
              "no                   0\n",
              "nama_lengkap         0\n",
              "jenis_kelamin        0\n",
              "kelurahan            0\n",
              "penghasilan          0\n",
              "jumlah_penghuni      0\n",
              "kondisi_dinding      0\n",
              "kondisi_lantai       0\n",
              "kondisi_atap         0\n",
              "status_penerimaan    0\n",
              "dtype: int64"
            ]
          },
          "metadata": {},
          "execution_count": 34
        },
        {
          "output_type": "display_data",
          "data": {
            "text/plain": [
              "<Figure size 1800x720 with 3 Axes>"
            ],
            "image/png": "[encoded data removed]"
          },
          "metadata": {
            "needs_background": "light"
          }
        }
      ]
    },
    {
      "cell_type": "code",
      "source": [
        "#MENGHAPUS KOLOM YANG TIDAK DIPERLUKAN UNTUK ANALISIS\n",
        "predata_hasil = dataset.drop([\"no\", \"nama_lengkap\", \"jenis_kelamin\", \"kelurahan\"], axis=1)\n",
        "\n",
        "#MENAMPILKAN NAMA KOLOM YANG DIPERLUKAN\n",
        "predata_hasil.columns"
      ],
      "metadata": {
        "colab": {
          "base_uri": "https://localhost:8080/"
        },
        "id": "--0AEz13oqml",
        "outputId": "52b3dd96-a4ef-43d1-8e66-e88652aa6c82"
      },
      "execution_count": null,
      "outputs": [
        {
          "output_type": "execute_result",
          "data": {
            "text/plain": [
              "Index(['penghasilan', 'jumlah_penghuni', 'kondisi_dinding', 'kondisi_lantai',\n",
              "       'kondisi_atap', 'status_penerimaan'],\n",
              "      dtype='object')"
            ]
          },
          "metadata": {},
          "execution_count": 35
        }
      ]
    },
    {
      "cell_type": "code",
      "source": [
        "#KONVERSI NILAI BERNILAI STRING KE NILAI ANGKA\n",
        "#FUNGSI UBAH DATA STATUS PENERIMAAN\n",
        "def status_penerimaan(value1):\n",
        "  if value1 == \"Ya\":\n",
        "    return 1\n",
        "  elif value1 == \"Tidak\":\n",
        "    return 0\n",
        "\n",
        "predata_hasil['status_penerimaan'] = predata_hasil['status_penerimaan'].apply(status_penerimaan)\n",
        "display(predata_hasil['status_penerimaan'])"
      ],
      "metadata": {
        "colab": {
          "base_uri": "https://localhost:8080/",
          "height": 236
        },
        "id": "etFp7PY0owtb",
        "outputId": "721aec25-c022-4538-f9e5-44a59f9efa21"
      },
      "execution_count": null,
      "outputs": [
        {
          "output_type": "display_data",
          "data": {
            "text/plain": [
              "0      0\n",
              "1      1\n",
              "2      0\n",
              "3      0\n",
              "4      0\n",
              "      ..\n",
              "295    0\n",
              "296    0\n",
              "297    0\n",
              "298    1\n",
              "299    1\n",
              "Name: status_penerimaan, Length: 300, dtype: int64"
            ]
          },
          "metadata": {}
        }
      ]
    },
    {
      "cell_type": "code",
      "source": [
        "#KONVERSI NILAI BERNILAI STRING KE NILAI ANGKA\n",
        "#FUNGSI UBAH DATA PENGHASILAN\n",
        "def penghasilan(value1):\n",
        "  if value1 >= 0 and value1 <= 1000000:\n",
        "    return 1\n",
        "  elif value1 > 1000000 and value1 <= 2000000:\n",
        "    return 2\n",
        "  elif value1 > 2000000 and value1 <= 3000000:\n",
        "    return 3\n",
        "  elif value1 > 3000000 and value1 <= 4000000:\n",
        "    return 4\n",
        "  elif value1 > 4000000:\n",
        "    return 5\n",
        "\n",
        "predata_hasil['penghasilan'] = predata_hasil['penghasilan'].apply(penghasilan)\n",
        "display(predata_hasil['penghasilan'])"
      ],
      "metadata": {
        "colab": {
          "base_uri": "https://localhost:8080/",
          "height": 236
        },
        "id": "mg8vdNMio10j",
        "outputId": "496fe733-8ea3-4a7e-a0e3-87fe3d9690ee"
      },
      "execution_count": null,
      "outputs": [
        {
          "output_type": "display_data",
          "data": {
            "text/plain": [
              "0      5\n",
              "1      5\n",
              "2      5\n",
              "3      1\n",
              "4      5\n",
              "      ..\n",
              "295    4\n",
              "296    3\n",
              "297    5\n",
              "298    5\n",
              "299    5\n",
              "Name: penghasilan, Length: 300, dtype: int64"
            ]
          },
          "metadata": {}
        }
      ]
    },
    {
      "cell_type": "code",
      "source": [
        "#KONVERSI NILAI BERNILAI STRING KE NILAI ANGKA\n",
        "#FUNGSI UBAH DATA JUMLAH PENGHUNI\n",
        "def jumlah_penghuni(value1):\n",
        "  if value1 == 1:\n",
        "    return 5\n",
        "  elif value1 > 1  and value1 <= 3:\n",
        "    return 4\n",
        "  elif value1 > 3 and value1 <= 5:\n",
        "    return 3\n",
        "  elif value1 > 5 and value1 <= 7:\n",
        "    return 2\n",
        "  elif value1 >= 8:\n",
        "    return 1\n",
        "\n",
        "predata_hasil['jumlah_penghuni'] = predata_hasil['jumlah_penghuni'].apply(jumlah_penghuni)\n",
        "display(predata_hasil['jumlah_penghuni'])"
      ],
      "metadata": {
        "colab": {
          "base_uri": "https://localhost:8080/",
          "height": 236
        },
        "id": "-OEvwDJ0o9D3",
        "outputId": "b91a3634-e05f-4d50-a2a0-601129ad94ba"
      },
      "execution_count": null,
      "outputs": [
        {
          "output_type": "display_data",
          "data": {
            "text/plain": [
              "0      1\n",
              "1      5\n",
              "2      1\n",
              "3      1\n",
              "4      1\n",
              "      ..\n",
              "295    1\n",
              "296    1\n",
              "297    3\n",
              "298    1\n",
              "299    5\n",
              "Name: jumlah_penghuni, Length: 300, dtype: int64"
            ]
          },
          "metadata": {}
        }
      ]
    },
    {
      "cell_type": "code",
      "source": [
        "#KONVERSI NILAI BERNILAI STRING KE NILAI ANGKA\n",
        "#FUNGSI UBAH DATA KONDISI ATAP DAN KONDISI DINDING\n",
        "def kondisi_atap_dinding(value1):\n",
        "  if value1 == \"Rusak Sangat Berat\":\n",
        "    return 5\n",
        "  elif value1 == \"Rusak Berat\":\n",
        "    return 4\n",
        "  elif value1 == \"Rusak Sedang\":\n",
        "    return 3\n",
        "  elif value1 == \"Rusak Ringan\":\n",
        "    return 2\n",
        "  elif value1 == \"Rusak Sangat Ringan\":\n",
        "    return 1\n",
        "\n",
        "predata_hasil['kondisi_atap'] = predata_hasil['kondisi_atap'].apply(kondisi_atap_dinding)\n",
        "display(predata_hasil['kondisi_atap'])\n",
        "\n",
        "predata_hasil['kondisi_dinding'] = predata_hasil['kondisi_dinding'].apply(kondisi_atap_dinding)\n",
        "display(predata_hasil['kondisi_dinding'])"
      ],
      "metadata": {
        "colab": {
          "base_uri": "https://localhost:8080/",
          "height": 455
        },
        "id": "eJ5AleB5pGLi",
        "outputId": "91b858a4-f18c-4e57-dddb-79ad81fbcf77"
      },
      "execution_count": null,
      "outputs": [
        {
          "output_type": "display_data",
          "data": {
            "text/plain": [
              "0      1\n",
              "1      4\n",
              "2      5\n",
              "3      5\n",
              "4      1\n",
              "      ..\n",
              "295    1\n",
              "296    5\n",
              "297    1\n",
              "298    5\n",
              "299    4\n",
              "Name: kondisi_atap, Length: 300, dtype: int64"
            ]
          },
          "metadata": {}
        },
        {
          "output_type": "display_data",
          "data": {
            "text/plain": [
              "0      3\n",
              "1      4\n",
              "2      2\n",
              "3      2\n",
              "4      1\n",
              "      ..\n",
              "295    1\n",
              "296    3\n",
              "297    3\n",
              "298    5\n",
              "299    2\n",
              "Name: kondisi_dinding, Length: 300, dtype: int64"
            ]
          },
          "metadata": {}
        }
      ]
    },
    {
      "cell_type": "code",
      "source": [
        "#KONVERSI NILAI BERNILAI STRING KE NILAI ANGKA\n",
        "#FUNGSI UBAH DATA KONDISI LANTAI\n",
        "def kondisi_lantai(value1):\n",
        "  if value1 == \"Rusak Berat\":\n",
        "    return 5\n",
        "  elif value1 == \"Rusak Sedang\":\n",
        "    return 3\n",
        "  elif value1 == \"Rusak Ringan\":\n",
        "    return 1\n",
        "\n",
        "predata_hasil['kondisi_lantai'] = predata_hasil['kondisi_lantai'].apply(kondisi_lantai)\n",
        "display(predata_hasil['kondisi_lantai'])"
      ],
      "metadata": {
        "colab": {
          "base_uri": "https://localhost:8080/",
          "height": 236
        },
        "id": "-oHeBqpipIQX",
        "outputId": "bc9fc88c-25cf-41c2-9f7c-4af5428472e4"
      },
      "execution_count": null,
      "outputs": [
        {
          "output_type": "display_data",
          "data": {
            "text/plain": [
              "0      5\n",
              "1      5\n",
              "2      3\n",
              "3      3\n",
              "4      1\n",
              "      ..\n",
              "295    1\n",
              "296    5\n",
              "297    5\n",
              "298    5\n",
              "299    3\n",
              "Name: kondisi_lantai, Length: 300, dtype: int64"
            ]
          },
          "metadata": {}
        }
      ]
    },
    {
      "cell_type": "code",
      "source": [
        "#TAMPILAN DATASET SETELAH KONVERSI\n",
        "predata_hasil"
      ],
      "metadata": {
        "colab": {
          "base_uri": "https://localhost:8080/",
          "height": 424
        },
        "id": "KKMj51nRpL5j",
        "outputId": "13e046f6-012d-498c-fb21-2111d7163700"
      },
      "execution_count": null,
      "outputs": [
        {
          "output_type": "execute_result",
          "data": {
            "text/plain": [
              "     penghasilan  jumlah_penghuni  kondisi_dinding  kondisi_lantai  \\\n",
              "0              5                1                3               5   \n",
              "1              5                5                4               5   \n",
              "2              5                1                2               3   \n",
              "3              1                1                2               3   \n",
              "4              5                1                1               1   \n",
              "..           ...              ...              ...             ...   \n",
              "295            4                1                1               1   \n",
              "296            3                1                3               5   \n",
              "297            5                3                3               5   \n",
              "298            5                1                5               5   \n",
              "299            5                5                2               3   \n",
              "\n",
              "     kondisi_atap  status_penerimaan  \n",
              "0               1                  0  \n",
              "1               4                  1  \n",
              "2               5                  0  \n",
              "3               5                  0  \n",
              "4               1                  0  \n",
              "..            ...                ...  \n",
              "295             1                  0  \n",
              "296             5                  0  \n",
              "297             1                  0  \n",
              "298             5                  1  \n",
              "299             4                  1  \n",
              "\n",
              "[300 rows x 6 columns]"
            ],
            "text/html": [
              "\n",
              "  <div id=\"df-6f70a8b6-ce6d-4fb6-8e60-9ea72b550bb7\">\n",
              "    <div class=\"colab-df-container\">\n",
              "      <div>\n",
              "<style scoped>\n",
              "    .dataframe tbody tr th:only-of-type {\n",
              "        vertical-align: middle;\n",
              "    }\n",
              "\n",
              "    .dataframe tbody tr th {\n",
              "        vertical-align: top;\n",
              "    }\n",
              "\n",
              "    .dataframe thead th {\n",
              "        text-align: right;\n",
              "    }\n",
              "</style>\n",
              "<table border=\"1\" class=\"dataframe\">\n",
              "  <thead>\n",
              "    <tr style=\"text-align: right;\">\n",
              "      <th></th>\n",
              "      <th>penghasilan</th>\n",
              "      <th>jumlah_penghuni</th>\n",
              "      <th>kondisi_dinding</th>\n",
              "      <th>kondisi_lantai</th>\n",
              "      <th>kondisi_atap</th>\n",
              "      <th>status_penerimaan</th>\n",
              "    </tr>\n",
              "  </thead>\n",
              "  <tbody>\n",
              "    <tr>\n",
              "      <th>0</th>\n",
              "      <td>5</td>\n",
              "      <td>1</td>\n",
              "      <td>3</td>\n",
              "      <td>5</td>\n",
              "      <td>1</td>\n",
              "      <td>0</td>\n",
              "    </tr>\n",
              "    <tr>\n",
              "      <th>1</th>\n",
              "      <td>5</td>\n",
              "      <td>5</td>\n",
              "      <td>4</td>\n",
              "      <td>5</td>\n",
              "      <td>4</td>\n",
              "      <td>1</td>\n",
              "    </tr>\n",
              "    <tr>\n",
              "      <th>2</th>\n",
              "      <td>5</td>\n",
              "      <td>1</td>\n",
              "      <td>2</td>\n",
              "      <td>3</td>\n",
              "      <td>5</td>\n",
              "      <td>0</td>\n",
              "    </tr>\n",
              "    <tr>\n",
              "      <th>3</th>\n",
              "      <td>1</td>\n",
              "      <td>1</td>\n",
              "      <td>2</td>\n",
              "      <td>3</td>\n",
              "      <td>5</td>\n",
              "      <td>0</td>\n",
              "    </tr>\n",
              "    <tr>\n",
              "      <th>4</th>\n",
              "      <td>5</td>\n",
              "      <td>1</td>\n",
              "      <td>1</td>\n",
              "      <td>1</td>\n",
              "      <td>1</td>\n",
              "      <td>0</td>\n",
              "    </tr>\n",
              "    <tr>\n",
              "      <th>...</th>\n",
              "      <td>...</td>\n",
              "      <td>...</td>\n",
              "      <td>...</td>\n",
              "      <td>...</td>\n",
              "      <td>...</td>\n",
              "      <td>...</td>\n",
              "    </tr>\n",
              "    <tr>\n",
              "      <th>295</th>\n",
              "      <td>4</td>\n",
              "      <td>1</td>\n",
              "      <td>1</td>\n",
              "      <td>1</td>\n",
              "      <td>1</td>\n",
              "      <td>0</td>\n",
              "    </tr>\n",
              "    <tr>\n",
              "      <th>296</th>\n",
              "      <td>3</td>\n",
              "      <td>1</td>\n",
              "      <td>3</td>\n",
              "      <td>5</td>\n",
              "      <td>5</td>\n",
              "      <td>0</td>\n",
              "    </tr>\n",
              "    <tr>\n",
              "      <th>297</th>\n",
              "      <td>5</td>\n",
              "      <td>3</td>\n",
              "      <td>3</td>\n",
              "      <td>5</td>\n",
              "      <td>1</td>\n",
              "      <td>0</td>\n",
              "    </tr>\n",
              "    <tr>\n",
              "      <th>298</th>\n",
              "      <td>5</td>\n",
              "      <td>1</td>\n",
              "      <td>5</td>\n",
              "      <td>5</td>\n",
              "      <td>5</td>\n",
              "      <td>1</td>\n",
              "    </tr>\n",
              "    <tr>\n",
              "      <th>299</th>\n",
              "      <td>5</td>\n",
              "      <td>5</td>\n",
              "      <td>2</td>\n",
              "      <td>3</td>\n",
              "      <td>4</td>\n",
              "      <td>1</td>\n",
              "    </tr>\n",
              "  </tbody>\n",
              "</table>\n",
              "<p>300 rows × 6 columns</p>\n",
              "</div>\n",
              "      <button class=\"colab-df-convert\" onclick=\"convertToInteractive('df-6f70a8b6-ce6d-4fb6-8e60-9ea72b550bb7')\"\n",
              "              title=\"Convert this dataframe to an interactive table.\"\n",
              "              style=\"display:none;\">\n",
              "        \n",
              "  <svg xmlns=\"http://www.w3.org/2000/svg\" height=\"24px\"viewBox=\"0 0 24 24\"\n",
              "       width=\"24px\">\n",
              "    <path d=\"M0 0h24v24H0V0z\" fill=\"none\"/>\n",
              "    <path d=\"M18.56 5.44l.94 2.06.94-2.06 2.06-.94-2.06-.94-.94-2.06-.94 2.06-2.06.94zm-11 1L8.5 8.5l.94-2.06 2.06-.94-2.06-.94L8.5 2.5l-.94 2.06-2.06.94zm10 10l.94 2.06.94-2.06 2.06-.94-2.06-.94-.94-2.06-.94 2.06-2.06.94z\"/><path d=\"M17.41 7.96l-1.37-1.37c-.4-.4-.92-.59-1.43-.59-.52 0-1.04.2-1.43.59L10.3 9.45l-7.72 7.72c-.78.78-.78 2.05 0 2.83L4 21.41c.39.39.9.59 1.41.59.51 0 1.02-.2 1.41-.59l7.78-7.78 2.81-2.81c.8-.78.8-2.07 0-2.86zM5.41 20L4 18.59l7.72-7.72 1.47 1.35L5.41 20z\"/>\n",
              "  </svg>\n",
              "      </button>\n",
              "      \n",
              "  <style>\n",
              "    .colab-df-container {\n",
              "      display:flex;\n",
              "      flex-wrap:wrap;\n",
              "      gap: 12px;\n",
              "    }\n",
              "\n",
              "    .colab-df-convert {\n",
              "      background-color: #E8F0FE;\n",
              "      border: none;\n",
              "      border-radius: 50%;\n",
              "      cursor: pointer;\n",
              "      display: none;\n",
              "      fill: #1967D2;\n",
              "      height: 32px;\n",
              "      padding: 0 0 0 0;\n",
              "      width: 32px;\n",
              "    }\n",
              "\n",
              "    .colab-df-convert:hover {\n",
              "      background-color: #E2EBFA;\n",
              "      box-shadow: 0px 1px 2px rgba(60, 64, 67, 0.3), 0px 1px 3px 1px rgba(60, 64, 67, 0.15);\n",
              "      fill: #174EA6;\n",
              "    }\n",
              "\n",
              "    [theme=dark] .colab-df-convert {\n",
              "      background-color: #3B4455;\n",
              "      fill: #D2E3FC;\n",
              "    }\n",
              "\n",
              "    [theme=dark] .colab-df-convert:hover {\n",
              "      background-color: #434B5C;\n",
              "      box-shadow: 0px 1px 3px 1px rgba(0, 0, 0, 0.15);\n",
              "      filter: drop-shadow(0px 1px 2px rgba(0, 0, 0, 0.3));\n",
              "      fill: #FFFFFF;\n",
              "    }\n",
              "  </style>\n",
              "\n",
              "      <script>\n",
              "        const buttonEl =\n",
              "          document.querySelector('#df-6f70a8b6-ce6d-4fb6-8e60-9ea72b550bb7 button.colab-df-convert');\n",
              "        buttonEl.style.display =\n",
              "          google.colab.kernel.accessAllowed ? 'block' : 'none';\n",
              "\n",
              "        async function convertToInteractive(key) {\n",
              "          const element = document.querySelector('#df-6f70a8b6-ce6d-4fb6-8e60-9ea72b550bb7');\n",
              "          const dataTable =\n",
              "            await google.colab.kernel.invokeFunction('convertToInteractive',\n",
              "                                                     [key], {});\n",
              "          if (!dataTable) return;\n",
              "\n",
              "          const docLinkHtml = 'Like what you see? Visit the ' +\n",
              "            '<a target=\"_blank\" href=https://colab.research.google.com/notebooks/data_table.ipynb>data table notebook</a>'\n",
              "            + ' to learn more about interactive tables.';\n",
              "          element.innerHTML = '';\n",
              "          dataTable['output_type'] = 'display_data';\n",
              "          await google.colab.output.renderOutput(dataTable, element);\n",
              "          const docLink = document.createElement('div');\n",
              "          docLink.innerHTML = docLinkHtml;\n",
              "          element.appendChild(docLink);\n",
              "        }\n",
              "      </script>\n",
              "    </div>\n",
              "  </div>\n",
              "  "
            ]
          },
          "metadata": {},
          "execution_count": 41
        }
      ]
    },
    {
      "cell_type": "code",
      "source": [
        "#KORELASI ANTAR VARIABEL\n",
        "sns.heatmap(predata_hasil.corr(), annot=True)"
      ],
      "metadata": {
        "colab": {
          "base_uri": "https://localhost:8080/",
          "height": 373
        },
        "id": "tLEiw3gPpPwr",
        "outputId": "aa8ffb71-a32b-407e-a767-8cd55a7521f3"
      },
      "execution_count": null,
      "outputs": [
        {
          "output_type": "execute_result",
          "data": {
            "text/plain": [
              "<matplotlib.axes._subplots.AxesSubplot at 0x7f966bd515d0>"
            ]
          },
          "metadata": {},
          "execution_count": 42
        },
        {
          "output_type": "display_data",
          "data": {
            "text/plain": [
              "<Figure size 432x288 with 2 Axes>"
            ],
            "image/png": "[encoded data removed]"
          },
          "metadata": {
            "needs_background": "light"
          }
        }
      ]
    },
    {
      "cell_type": "code",
      "source": [
        "#MENENTUKAN VARIABEL DEPENDEN DAN INDEPENDEN\n",
        "x = predata_hasil[['penghasilan', 'jumlah_penghuni', 'kondisi_dinding', 'kondisi_atap', 'kondisi_lantai']]\n",
        "y = predata_hasil['status_penerimaan']\n",
        "print(x)\n",
        "print(y)"
      ],
      "metadata": {
        "colab": {
          "base_uri": "https://localhost:8080/"
        },
        "id": "aQPD2XmXqBk0",
        "outputId": "91b813e1-4fb2-4886-a74c-01e1cf917aeb"
      },
      "execution_count": null,
      "outputs": [
        {
          "output_type": "stream",
          "name": "stdout",
          "text": [
            "     penghasilan  jumlah_penghuni  kondisi_dinding  kondisi_atap  \\\n",
            "0              5                1                3             1   \n",
            "1              5                5                4             4   \n",
            "2              5                1                2             5   \n",
            "3              1                1                2             5   \n",
            "4              5                1                1             1   \n",
            "..           ...              ...              ...           ...   \n",
            "295            4                1                1             1   \n",
            "296            3                1                3             5   \n",
            "297            5                3                3             1   \n",
            "298            5                1                5             5   \n",
            "299            5                5                2             4   \n",
            "\n",
            "     kondisi_lantai  \n",
            "0                 5  \n",
            "1                 5  \n",
            "2                 3  \n",
            "3                 3  \n",
            "4                 1  \n",
            "..              ...  \n",
            "295               1  \n",
            "296               5  \n",
            "297               5  \n",
            "298               5  \n",
            "299               3  \n",
            "\n",
            "[300 rows x 5 columns]\n",
            "0      0\n",
            "1      1\n",
            "2      0\n",
            "3      0\n",
            "4      0\n",
            "      ..\n",
            "295    0\n",
            "296    0\n",
            "297    0\n",
            "298    1\n",
            "299    1\n",
            "Name: status_penerimaan, Length: 300, dtype: int64\n"
          ]
        }
      ]
    },
    {
      "cell_type": "code",
      "source": [
        "#MELAKUKAN TRAINING DATASET\n",
        "x_train, x_test, y_train, y_test = train_test_split(x, y, test_size=0.2, random_state=1)"
      ],
      "metadata": {
        "id": "L8RpOfeIKjh7"
      },
      "execution_count": null,
      "outputs": []
    },
    {
      "cell_type": "code",
      "source": [
        "# Import Gaussian Naive Bayes model\n",
        "from sklearn.naive_bayes import GaussianNB\n",
        "# Mengaktifkan/memanggil/membuat fungsi klasifikasi Naive bayes\n",
        "modelnb = GaussianNB()\n",
        "# Memasukkan data training pada fungsi klasifikasi naive bayes\n",
        "modelnb.fit(x_train, y_train)"
      ],
      "metadata": {
        "id": "wW4q0Bb0qZly",
        "colab": {
          "base_uri": "https://localhost:8080/"
        },
        "outputId": "9c47633d-06f4-4475-ec99-77c4248ea4d1"
      },
      "execution_count": null,
      "outputs": [
        {
          "output_type": "execute_result",
          "data": {
            "text/plain": [
              "GaussianNB()"
            ]
          },
          "metadata": {},
          "execution_count": 45
        }
      ]
    },
    {
      "cell_type": "code",
      "source": [
        "# Menentukan hasil prediksi dari x_test\n",
        "y_pred = modelnb.predict(x_test)\n",
        "y_pred"
      ],
      "metadata": {
        "colab": {
          "base_uri": "https://localhost:8080/"
        },
        "id": "eLRUbEHZKoiv",
        "outputId": "6e6cf27c-892e-4fbf-e155-eab0310c8ee1"
      },
      "execution_count": null,
      "outputs": [
        {
          "output_type": "execute_result",
          "data": {
            "text/plain": [
              "array([1, 0, 1, 1, 0, 0, 1, 0, 1, 0, 1, 1, 0, 0, 1, 0, 1, 1, 0, 0, 1, 1,\n",
              "       0, 0, 1, 0, 0, 0, 0, 0, 0, 1, 1, 1, 1, 1, 1, 0, 1, 0, 0, 1, 0, 0,\n",
              "       1, 1, 0, 0, 0, 0, 0, 1, 0, 0, 0, 1, 0, 0, 0, 0])"
            ]
          },
          "metadata": {},
          "execution_count": 46
        }
      ]
    },
    {
      "cell_type": "code",
      "source": [
        "from sklearn.metrics import r2_score\n",
        "from math import sqrt\n",
        "from sklearn.metrics import mean_squared_error\n",
        "from sklearn.metrics import mean_absolute_error\n",
        "from sklearn.metrics import mean_absolute_percentage_error\n",
        "\n",
        "print('R2 score untuk Naive Bayes ',r2_score(y,modelnb.predict(x)))\n",
        "print('Mean Absolute Error untuk Naive Bayes ', mean_absolute_error(y, modelnb.predict(x)))\n",
        "print('Mean Squared Error untuk Naive Bayes ', mean_squared_error(y,modelnb.predict(x)))\n",
        "print('Root Mean Square error untuk Naive Bayes ',sqrt(mean_squared_error(y,modelnb.predict(x))))\n",
        "print('Mean Absolute Percentage Error untuk Naive Bayes ', mean_absolute_percentage_error(y,modelnb.predict(x)))"
      ],
      "metadata": {
        "colab": {
          "base_uri": "https://localhost:8080/"
        },
        "id": "3BaWiD4pKwzm",
        "outputId": "53de677d-9f37-41bc-8cdb-dca4d2d9888a"
      },
      "execution_count": null,
      "outputs": [
        {
          "output_type": "stream",
          "name": "stdout",
          "text": [
            "R2 score untuk Naive Bayes  0.4\n",
            "Mean Absolute Error untuk Naive Bayes  0.13333333333333333\n",
            "Mean Squared Error untuk Naive Bayes  0.13333333333333333\n",
            "Root Mean Square error untuk Naive Bayes  0.3651483716701107\n",
            "Mean Absolute Percentage Error untuk Naive Bayes  495395959010754.56\n"
          ]
        }
      ]
    },
    {
      "cell_type": "code",
      "source": [
        "#MENENTUKAN PROBABILITAS HASIL PREDIKSI\n",
        "modelnb.predict_proba(x_test)"
      ],
      "metadata": {
        "colab": {
          "base_uri": "https://localhost:8080/"
        },
        "id": "YeLW2O9-K_0I",
        "outputId": "66aa80a4-45c9-456d-8b6b-bc1ef2f82f19"
      },
      "execution_count": null,
      "outputs": [
        {
          "output_type": "execute_result",
          "data": {
            "text/plain": [
              "array([[3.65241155e-01, 6.34758845e-01],\n",
              "       [9.99999992e-01, 8.44438565e-09],\n",
              "       [2.06890576e-02, 9.79310942e-01],\n",
              "       [1.22175048e-02, 9.87782495e-01],\n",
              "       [1.00000000e+00, 1.39551781e-36],\n",
              "       [9.99999997e-01, 2.77022355e-09],\n",
              "       [2.26980383e-01, 7.73019617e-01],\n",
              "       [1.00000000e+00, 2.42635884e-17],\n",
              "       [3.31284004e-02, 9.66871600e-01],\n",
              "       [9.99999992e-01, 7.74209284e-09],\n",
              "       [9.88314739e-03, 9.90116853e-01],\n",
              "       [6.46991653e-02, 9.35300835e-01],\n",
              "       [9.99999972e-01, 2.78588189e-08],\n",
              "       [1.00000000e+00, 3.99963683e-43],\n",
              "       [1.59512113e-02, 9.84048789e-01],\n",
              "       [1.00000000e+00, 4.00251471e-10],\n",
              "       [6.46991653e-02, 9.35300835e-01],\n",
              "       [7.86236303e-03, 9.92137637e-01],\n",
              "       [9.98783766e-01, 1.21623413e-03],\n",
              "       [9.99999992e-01, 7.74209284e-09],\n",
              "       [1.75699736e-01, 8.24300264e-01],\n",
              "       [2.50687631e-01, 7.49312369e-01],\n",
              "       [9.24264666e-01, 7.57353336e-02],\n",
              "       [8.04287748e-01, 1.95712252e-01],\n",
              "       [1.01744154e-01, 8.98255846e-01],\n",
              "       [9.99999979e-01, 2.10979113e-08],\n",
              "       [5.22277621e-01, 4.77722379e-01],\n",
              "       [1.00000000e+00, 3.48663746e-36],\n",
              "       [9.98497443e-01, 1.50255716e-03],\n",
              "       [1.00000000e+00, 7.35551397e-35],\n",
              "       [1.00000000e+00, 3.32869802e-43],\n",
              "       [5.14013956e-02, 9.48598604e-01],\n",
              "       [2.65868419e-01, 7.34131581e-01],\n",
              "       [4.15097133e-01, 5.84902867e-01],\n",
              "       [1.22175048e-02, 9.87782495e-01],\n",
              "       [2.94629439e-01, 7.05370561e-01],\n",
              "       [5.16593043e-02, 9.48340696e-01],\n",
              "       [1.00000000e+00, 7.42504694e-18],\n",
              "       [5.01363572e-02, 9.49863643e-01],\n",
              "       [9.99999997e-01, 3.27494490e-09],\n",
              "       [9.99878828e-01, 1.21172332e-04],\n",
              "       [3.29987132e-03, 9.96700129e-01],\n",
              "       [1.00000000e+00, 6.21326603e-37],\n",
              "       [1.00000000e+00, 1.39551781e-36],\n",
              "       [2.69075041e-02, 9.73092496e-01],\n",
              "       [6.46991653e-02, 9.35300835e-01],\n",
              "       [1.00000000e+00, 1.91329077e-16],\n",
              "       [1.00000000e+00, 2.50052065e-10],\n",
              "       [9.98497443e-01, 1.50255716e-03],\n",
              "       [9.90489106e-01, 9.51089442e-03],\n",
              "       [6.40610744e-01, 3.59389256e-01],\n",
              "       [4.92612138e-03, 9.95073879e-01],\n",
              "       [9.99999999e-01, 1.10877496e-09],\n",
              "       [1.00000000e+00, 7.90240771e-35],\n",
              "       [1.00000000e+00, 8.98438934e-35],\n",
              "       [3.85626406e-03, 9.96143736e-01],\n",
              "       [9.99999979e-01, 2.10979113e-08],\n",
              "       [9.99999997e-01, 2.77022355e-09],\n",
              "       [9.99996321e-01, 3.67886694e-06],\n",
              "       [1.00000000e+00, 4.32079156e-35]])"
            ]
          },
          "metadata": {},
          "execution_count": 48
        }
      ]
    },
    {
      "cell_type": "code",
      "source": [
        "#Membuat kurva perbandingan nilai aktual dan nilai prediksi model KNN\n",
        "a = sns.distplot(predata_hasil['status_penerimaan'], hist=False, color='r', label='Nilai Aktual')\n",
        "sns.distplot(y_pred, hist=False, color='b', label='Nilai Prediksi', ax=a)"
      ],
      "metadata": {
        "colab": {
          "base_uri": "https://localhost:8080/",
          "height": 391
        },
        "id": "vfIxCJ2KLHR3",
        "outputId": "e3d24127-2504-47a5-dfb3-db14a30ddf3c"
      },
      "execution_count": null,
      "outputs": [
        {
          "output_type": "stream",
          "name": "stderr",
          "text": [
            "/usr/local/lib/python3.7/dist-packages/seaborn/distributions.py:2619: FutureWarning: `distplot` is a deprecated function and will be removed in a future version. Please adapt your code to use either `displot` (a figure-level function with similar flexibility) or `kdeplot` (an axes-level function for kernel density plots).\n",
            "  warnings.warn(msg, FutureWarning)\n",
            "/usr/local/lib/python3.7/dist-packages/seaborn/distributions.py:2619: FutureWarning: `distplot` is a deprecated function and will be removed in a future version. Please adapt your code to use either `displot` (a figure-level function with similar flexibility) or `kdeplot` (an axes-level function for kernel density plots).\n",
            "  warnings.warn(msg, FutureWarning)\n"
          ]
        },
        {
          "output_type": "execute_result",
          "data": {
            "text/plain": [
              "<matplotlib.axes._subplots.AxesSubplot at 0x7f966bd31f10>"
            ]
          },
          "metadata": {},
          "execution_count": 49
        },
        {
          "output_type": "display_data",
          "data": {
            "text/plain": [
              "<Figure size 432x288 with 1 Axes>"
            ],
            "image/png": "[encoded data removed]"
          },
          "metadata": {
            "needs_background": "light"
          }
        }
      ]
    },
    {
      "cell_type": "code",
      "source": [
        "#MENAMPILKAN AKURASI\n",
        "print(accuracy_score(y_test, y_pred))"
      ],
      "metadata": {
        "colab": {
          "base_uri": "https://localhost:8080/"
        },
        "id": "5u0BVdtjLMJE",
        "outputId": "7886b650-283c-46d4-e45c-00c455679b95"
      },
      "execution_count": null,
      "outputs": [
        {
          "output_type": "stream",
          "name": "stdout",
          "text": [
            "0.8666666666666667\n"
          ]
        }
      ]
    },
    {
      "cell_type": "code",
      "source": [
        "#EVALUASI\n",
        "print(classification_report(y_test, y_pred)) #MENAMPILKAN HASIL MATRIKS PREDIKSI\n",
        "\n",
        "#MENAMPILKAN HASIL REPORT KLASIFIKASI\n",
        "cm = confusion_matrix(y_test, y_pred)\n",
        "cm_matrix = pd.DataFrame(data = cm, columns = ['Actual Positif', 'Actual Negatif'],\n",
        "                                    index = ['Prediksi Positif', 'Prediksi Negatif'])\n",
        "\n",
        "sns.heatmap(cm_matrix, annot = True, fmt = 'd', cmap = 'YlGnBu')"
      ],
      "metadata": {
        "colab": {
          "base_uri": "https://localhost:8080/",
          "height": 447
        },
        "id": "B3g-8Gp6LWjO",
        "outputId": "86fbc5c6-04e4-473a-d2d1-4e8a1d7e4fa7"
      },
      "execution_count": null,
      "outputs": [
        {
          "output_type": "stream",
          "name": "stdout",
          "text": [
            "              precision    recall  f1-score   support\n",
            "\n",
            "           0       0.91      0.86      0.89        37\n",
            "           1       0.80      0.87      0.83        23\n",
            "\n",
            "    accuracy                           0.87        60\n",
            "   macro avg       0.86      0.87      0.86        60\n",
            "weighted avg       0.87      0.87      0.87        60\n",
            "\n"
          ]
        },
        {
          "output_type": "execute_result",
          "data": {
            "text/plain": [
              "<matplotlib.axes._subplots.AxesSubplot at 0x7f966bbda790>"
            ]
          },
          "metadata": {},
          "execution_count": 51
        },
        {
          "output_type": "display_data",
          "data": {
            "text/plain": [
              "<Figure size 432x288 with 2 Axes>"
            ],
            "image/png": "[encoded data removed]"
          },
          "metadata": {
            "needs_background": "light"
          }
        }
      ]
    },
    {
      "cell_type": "code",
      "source": [
        "#Membuat nilai probabilitas untuk digunakan pada evaluasi ROC\n",
        "random_probs = [0 for _ in range(len(y_test))]\n",
        "nb_probs = modelnb.predict(x_test)\n",
        "nb_probs"
      ],
      "metadata": {
        "colab": {
          "base_uri": "https://localhost:8080/"
        },
        "id": "LZDJ23g8LeWV",
        "outputId": "3fde214d-28c4-4ca0-8312-f50136bb7ec3"
      },
      "execution_count": null,
      "outputs": [
        {
          "output_type": "execute_result",
          "data": {
            "text/plain": [
              "array([1, 0, 1, 1, 0, 0, 1, 0, 1, 0, 1, 1, 0, 0, 1, 0, 1, 1, 0, 0, 1, 1,\n",
              "       0, 0, 1, 0, 0, 0, 0, 0, 0, 1, 1, 1, 1, 1, 1, 0, 1, 0, 0, 1, 0, 0,\n",
              "       1, 1, 0, 0, 0, 0, 0, 1, 0, 0, 0, 1, 0, 0, 0, 0])"
            ]
          },
          "metadata": {},
          "execution_count": 52
        }
      ]
    },
    {
      "cell_type": "code",
      "source": [
        "#Menghitung nilai ROC dan AUCROC\n",
        "random_auc = roc_auc_score(y_test, random_probs)\n",
        "nb_auc = roc_auc_score(y_test, nb_probs)\n",
        "\n",
        "print('Random Prediction : AUCROC = %.3f' % (random_auc))\n",
        "print('Naive Bayes = %.3f' % (nb_auc))"
      ],
      "metadata": {
        "colab": {
          "base_uri": "https://localhost:8080/"
        },
        "id": "xn9_YMmKLoSJ",
        "outputId": "3ead7a93-2c49-489c-c5d8-5ad568a2d26f"
      },
      "execution_count": null,
      "outputs": [
        {
          "output_type": "stream",
          "name": "stdout",
          "text": [
            "Random Prediction : AUCROC = 0.500\n",
            "Naive Bayes = 0.867\n"
          ]
        }
      ]
    },
    {
      "cell_type": "code",
      "source": [
        "#Membuat kurva dari ROC sebagai model evaluasi\n",
        "random_fpr, random_tpr, _ = roc_curve(y_test, random_probs)\n",
        "nb_fpr, nb_tpr, _ = roc_curve(y_test, nb_probs)\n",
        "\n",
        "plt.plot(random_fpr, random_tpr, marker=\".\", label = \"Random : (AUCROC = %.3f)\" % random_auc)\n",
        "plt.plot(nb_fpr, nb_tpr, marker=\".\", label = \"Naive Bayes : (AUCROC = %.3f)\" % nb_auc)\n",
        "\n",
        "plt.title(\"ROC PLOT\")\n",
        "plt.xlabel(\"False Posoitive Rate\")\n",
        "plt.ylabel(\"True Positive Rate\")\n",
        "plt.legend()\n",
        "plt.show()"
      ],
      "metadata": {
        "colab": {
          "base_uri": "https://localhost:8080/",
          "height": 295
        },
        "id": "YWytCwdRLuvf",
        "outputId": "ce5cf8e6-38a4-4e53-f069-2469bc9ff75f"
      },
      "execution_count": null,
      "outputs": [
        {
          "output_type": "display_data",
          "data": {
            "text/plain": [
              "<Figure size 432x288 with 1 Axes>"
            ],
            "image/png": "[encoded data removed]"
          },
          "metadata": {
            "needs_background": "light"
          }
        }
      ]
    },
    {
      "cell_type": "code",
      "source": [
        ""
      ],
      "metadata": {
        "id": "QOUzY7JCL4OQ"
      },
      "execution_count": null,
      "outputs": []
    }
  ]
}