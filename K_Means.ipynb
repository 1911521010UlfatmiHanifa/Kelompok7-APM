{
  "nbformat": 4,
  "nbformat_minor": 0,
  "metadata": {
    "colab": {
      "name": "K-Means.ipynb",
      "provenance": [],
      "authorship_tag": "ABX9TyMSM3Vc634sX08AMg9UoE0o",
      "include_colab_link": true
    },
    "kernelspec": {
      "name": "python3",
      "display_name": "Python 3"
    },
    "language_info": {
      "name": "python"
    }
  },
  "cells": [
    {
      "cell_type": "markdown",
      "metadata": {
        "id": "view-in-github",
        "colab_type": "text"
      },
      "source": [
        "<a href=\"https://colab.research.google.com/github/1911521010UlfatmiHanifa/Kelompok7-APM/blob/main/K_Means.ipynb\" target=\"_parent\"><img src=\"https://colab.research.google.com/assets/colab-badge.svg\" alt=\"Open In Colab\"/></a>"
      ]
    },
    {
      "cell_type": "code",
      "metadata": {
        "id": "p3BGsg_MciU9",
        "colab": {
          "base_uri": "https://localhost:8080/"
        },
        "outputId": "70a2f2be-0576-41a2-e15c-225470aac84e"
      },
      "source": [
        "from google.colab import drive\n",
        "drive.mount ('/content/drive')"
      ],
      "execution_count": 1,
      "outputs": [
        {
          "output_type": "stream",
          "name": "stdout",
          "text": [
            "Mounted at /content/drive\n"
          ]
        }
      ]
    },
    {
      "cell_type": "code",
      "source": [
        "import pandas as pd\n",
        "import numpy as np\n",
        "import matplotlib.pyplot as plt\n",
        "import seaborn as sns\n",
        "import sklearn\n",
        "from sklearn.metrics import silhouette_score\n",
        "from sklearn.cluster import KMeans\n",
        "from sklearn.decomposition import PCA \n",
        "%matplotlib inline"
      ],
      "metadata": {
        "id": "HyEbhP4OEz-x"
      },
      "execution_count": 2,
      "outputs": []
    },
    {
      "cell_type": "code",
      "source": [
        "dataset = pd.read_csv(\"drive/MyDrive/APM/csgoweapons2.csv\")\n",
        "dataset.head()"
      ],
      "metadata": {
        "colab": {
          "base_uri": "https://localhost:8080/",
          "height": 314
        },
        "id": "WCNvEzizE5Af",
        "outputId": "ffa2d081-390c-4f5b-a20e-af51a9c65f90"
      },
      "execution_count": 3,
      "outputs": [
        {
          "output_type": "execute_result",
          "data": {
            "text/plain": [
              "           Name Team   Cost Kill Award  Kills To Rebuy  Max Speed  RoF  \\\n",
              "0         AK-47    T  $2700       $300            9.00        215  600   \n",
              "1           AUG   CT  $3300       $300           11.00        220  667   \n",
              "2           AWP    T  $4750       $100           47.50        200   41   \n",
              "3     CZ75 Auto    T   $500       $300            1.67        240  600   \n",
              "4  Desert Eagle    T   $700       $300            2.33        230  267   \n",
              "\n",
              "   Damage  DPS Armor Penetration  ...  Max Ammo  Reload (CR)  Reload (FR)  \\\n",
              "0      36  360            77.50%  ...        90         1.20          2.5   \n",
              "1      28  311            90.00%  ...        90         1.50          3.8   \n",
              "2     115   79            97.50%  ...        30         2.00          3.7   \n",
              "3      33  300            77.65%  ...        12         0.00          2.9   \n",
              "4      63  280            93.20%  ...        35         0.88          2.3   \n",
              "\n",
              "   Recoil  Recoil (V)  Recoil (H)  Spread  Spread Run  Spread Stand  \\\n",
              "0    30.0           0          70     0.6      175.06          6.41   \n",
              "1    26.0           0          60     0.5      135.45          3.85   \n",
              "2    78.0          15          20     0.2      176.48         80.80   \n",
              "3    27.0          10         180     3.0       13.41         10.43   \n",
              "4    48.2          18          60     2.0       48.10          4.20   \n",
              "\n",
              "   Spread Crouch  \n",
              "0           4.81  \n",
              "1           2.88  \n",
              "2          60.60  \n",
              "3           7.60  \n",
              "4           2.18  \n",
              "\n",
              "[5 rows x 23 columns]"
            ],
            "text/html": [
              "\n",
              "  <div id=\"df-ab366363-5616-488d-bfdb-d99c6fa959d7\">\n",
              "    <div class=\"colab-df-container\">\n",
              "      <div>\n",
              "<style scoped>\n",
              "    .dataframe tbody tr th:only-of-type {\n",
              "        vertical-align: middle;\n",
              "    }\n",
              "\n",
              "    .dataframe tbody tr th {\n",
              "        vertical-align: top;\n",
              "    }\n",
              "\n",
              "    .dataframe thead th {\n",
              "        text-align: right;\n",
              "    }\n",
              "</style>\n",
              "<table border=\"1\" class=\"dataframe\">\n",
              "  <thead>\n",
              "    <tr style=\"text-align: right;\">\n",
              "      <th></th>\n",
              "      <th>Name</th>\n",
              "      <th>Team</th>\n",
              "      <th>Cost</th>\n",
              "      <th>Kill Award</th>\n",
              "      <th>Kills To Rebuy</th>\n",
              "      <th>Max Speed</th>\n",
              "      <th>RoF</th>\n",
              "      <th>Damage</th>\n",
              "      <th>DPS</th>\n",
              "      <th>Armor Penetration</th>\n",
              "      <th>...</th>\n",
              "      <th>Max Ammo</th>\n",
              "      <th>Reload (CR)</th>\n",
              "      <th>Reload (FR)</th>\n",
              "      <th>Recoil</th>\n",
              "      <th>Recoil (V)</th>\n",
              "      <th>Recoil (H)</th>\n",
              "      <th>Spread</th>\n",
              "      <th>Spread Run</th>\n",
              "      <th>Spread Stand</th>\n",
              "      <th>Spread Crouch</th>\n",
              "    </tr>\n",
              "  </thead>\n",
              "  <tbody>\n",
              "    <tr>\n",
              "      <th>0</th>\n",
              "      <td>AK-47</td>\n",
              "      <td>T</td>\n",
              "      <td>$2700</td>\n",
              "      <td>$300</td>\n",
              "      <td>9.00</td>\n",
              "      <td>215</td>\n",
              "      <td>600</td>\n",
              "      <td>36</td>\n",
              "      <td>360</td>\n",
              "      <td>77.50%</td>\n",
              "      <td>...</td>\n",
              "      <td>90</td>\n",
              "      <td>1.20</td>\n",
              "      <td>2.5</td>\n",
              "      <td>30.0</td>\n",
              "      <td>0</td>\n",
              "      <td>70</td>\n",
              "      <td>0.6</td>\n",
              "      <td>175.06</td>\n",
              "      <td>6.41</td>\n",
              "      <td>4.81</td>\n",
              "    </tr>\n",
              "    <tr>\n",
              "      <th>1</th>\n",
              "      <td>AUG</td>\n",
              "      <td>CT</td>\n",
              "      <td>$3300</td>\n",
              "      <td>$300</td>\n",
              "      <td>11.00</td>\n",
              "      <td>220</td>\n",
              "      <td>667</td>\n",
              "      <td>28</td>\n",
              "      <td>311</td>\n",
              "      <td>90.00%</td>\n",
              "      <td>...</td>\n",
              "      <td>90</td>\n",
              "      <td>1.50</td>\n",
              "      <td>3.8</td>\n",
              "      <td>26.0</td>\n",
              "      <td>0</td>\n",
              "      <td>60</td>\n",
              "      <td>0.5</td>\n",
              "      <td>135.45</td>\n",
              "      <td>3.85</td>\n",
              "      <td>2.88</td>\n",
              "    </tr>\n",
              "    <tr>\n",
              "      <th>2</th>\n",
              "      <td>AWP</td>\n",
              "      <td>T</td>\n",
              "      <td>$4750</td>\n",
              "      <td>$100</td>\n",
              "      <td>47.50</td>\n",
              "      <td>200</td>\n",
              "      <td>41</td>\n",
              "      <td>115</td>\n",
              "      <td>79</td>\n",
              "      <td>97.50%</td>\n",
              "      <td>...</td>\n",
              "      <td>30</td>\n",
              "      <td>2.00</td>\n",
              "      <td>3.7</td>\n",
              "      <td>78.0</td>\n",
              "      <td>15</td>\n",
              "      <td>20</td>\n",
              "      <td>0.2</td>\n",
              "      <td>176.48</td>\n",
              "      <td>80.80</td>\n",
              "      <td>60.60</td>\n",
              "    </tr>\n",
              "    <tr>\n",
              "      <th>3</th>\n",
              "      <td>CZ75 Auto</td>\n",
              "      <td>T</td>\n",
              "      <td>$500</td>\n",
              "      <td>$300</td>\n",
              "      <td>1.67</td>\n",
              "      <td>240</td>\n",
              "      <td>600</td>\n",
              "      <td>33</td>\n",
              "      <td>300</td>\n",
              "      <td>77.65%</td>\n",
              "      <td>...</td>\n",
              "      <td>12</td>\n",
              "      <td>0.00</td>\n",
              "      <td>2.9</td>\n",
              "      <td>27.0</td>\n",
              "      <td>10</td>\n",
              "      <td>180</td>\n",
              "      <td>3.0</td>\n",
              "      <td>13.41</td>\n",
              "      <td>10.43</td>\n",
              "      <td>7.60</td>\n",
              "    </tr>\n",
              "    <tr>\n",
              "      <th>4</th>\n",
              "      <td>Desert Eagle</td>\n",
              "      <td>T</td>\n",
              "      <td>$700</td>\n",
              "      <td>$300</td>\n",
              "      <td>2.33</td>\n",
              "      <td>230</td>\n",
              "      <td>267</td>\n",
              "      <td>63</td>\n",
              "      <td>280</td>\n",
              "      <td>93.20%</td>\n",
              "      <td>...</td>\n",
              "      <td>35</td>\n",
              "      <td>0.88</td>\n",
              "      <td>2.3</td>\n",
              "      <td>48.2</td>\n",
              "      <td>18</td>\n",
              "      <td>60</td>\n",
              "      <td>2.0</td>\n",
              "      <td>48.10</td>\n",
              "      <td>4.20</td>\n",
              "      <td>2.18</td>\n",
              "    </tr>\n",
              "  </tbody>\n",
              "</table>\n",
              "<p>5 rows × 23 columns</p>\n",
              "</div>\n",
              "      <button class=\"colab-df-convert\" onclick=\"convertToInteractive('df-ab366363-5616-488d-bfdb-d99c6fa959d7')\"\n",
              "              title=\"Convert this dataframe to an interactive table.\"\n",
              "              style=\"display:none;\">\n",
              "        \n",
              "  <svg xmlns=\"http://www.w3.org/2000/svg\" height=\"24px\"viewBox=\"0 0 24 24\"\n",
              "       width=\"24px\">\n",
              "    <path d=\"M0 0h24v24H0V0z\" fill=\"none\"/>\n",
              "    <path d=\"M18.56 5.44l.94 2.06.94-2.06 2.06-.94-2.06-.94-.94-2.06-.94 2.06-2.06.94zm-11 1L8.5 8.5l.94-2.06 2.06-.94-2.06-.94L8.5 2.5l-.94 2.06-2.06.94zm10 10l.94 2.06.94-2.06 2.06-.94-2.06-.94-.94-2.06-.94 2.06-2.06.94z\"/><path d=\"M17.41 7.96l-1.37-1.37c-.4-.4-.92-.59-1.43-.59-.52 0-1.04.2-1.43.59L10.3 9.45l-7.72 7.72c-.78.78-.78 2.05 0 2.83L4 21.41c.39.39.9.59 1.41.59.51 0 1.02-.2 1.41-.59l7.78-7.78 2.81-2.81c.8-.78.8-2.07 0-2.86zM5.41 20L4 18.59l7.72-7.72 1.47 1.35L5.41 20z\"/>\n",
              "  </svg>\n",
              "      </button>\n",
              "      \n",
              "  <style>\n",
              "    .colab-df-container {\n",
              "      display:flex;\n",
              "      flex-wrap:wrap;\n",
              "      gap: 12px;\n",
              "    }\n",
              "\n",
              "    .colab-df-convert {\n",
              "      background-color: #E8F0FE;\n",
              "      border: none;\n",
              "      border-radius: 50%;\n",
              "      cursor: pointer;\n",
              "      display: none;\n",
              "      fill: #1967D2;\n",
              "      height: 32px;\n",
              "      padding: 0 0 0 0;\n",
              "      width: 32px;\n",
              "    }\n",
              "\n",
              "    .colab-df-convert:hover {\n",
              "      background-color: #E2EBFA;\n",
              "      box-shadow: 0px 1px 2px rgba(60, 64, 67, 0.3), 0px 1px 3px 1px rgba(60, 64, 67, 0.15);\n",
              "      fill: #174EA6;\n",
              "    }\n",
              "\n",
              "    [theme=dark] .colab-df-convert {\n",
              "      background-color: #3B4455;\n",
              "      fill: #D2E3FC;\n",
              "    }\n",
              "\n",
              "    [theme=dark] .colab-df-convert:hover {\n",
              "      background-color: #434B5C;\n",
              "      box-shadow: 0px 1px 3px 1px rgba(0, 0, 0, 0.15);\n",
              "      filter: drop-shadow(0px 1px 2px rgba(0, 0, 0, 0.3));\n",
              "      fill: #FFFFFF;\n",
              "    }\n",
              "  </style>\n",
              "\n",
              "      <script>\n",
              "        const buttonEl =\n",
              "          document.querySelector('#df-ab366363-5616-488d-bfdb-d99c6fa959d7 button.colab-df-convert');\n",
              "        buttonEl.style.display =\n",
              "          google.colab.kernel.accessAllowed ? 'block' : 'none';\n",
              "\n",
              "        async function convertToInteractive(key) {\n",
              "          const element = document.querySelector('#df-ab366363-5616-488d-bfdb-d99c6fa959d7');\n",
              "          const dataTable =\n",
              "            await google.colab.kernel.invokeFunction('convertToInteractive',\n",
              "                                                     [key], {});\n",
              "          if (!dataTable) return;\n",
              "\n",
              "          const docLinkHtml = 'Like what you see? Visit the ' +\n",
              "            '<a target=\"_blank\" href=https://colab.research.google.com/notebooks/data_table.ipynb>data table notebook</a>'\n",
              "            + ' to learn more about interactive tables.';\n",
              "          element.innerHTML = '';\n",
              "          dataTable['output_type'] = 'display_data';\n",
              "          await google.colab.output.renderOutput(dataTable, element);\n",
              "          const docLink = document.createElement('div');\n",
              "          docLink.innerHTML = docLinkHtml;\n",
              "          element.appendChild(docLink);\n",
              "        }\n",
              "      </script>\n",
              "    </div>\n",
              "  </div>\n",
              "  "
            ]
          },
          "metadata": {},
          "execution_count": 3
        }
      ]
    },
    {
      "cell_type": "code",
      "source": [
        "#Menghapus Kolom yang tidak diperlukan\n",
        "dataset.drop(['Name','Cost','Kill Award','Armor Penetration','Penetration','Recoil (V)','Recoil (H)','Max Speed',\n",
        "              'Kills To Rebuy','RoF', 'Max Range', 'Clip Size', 'Max Ammo', 'Reload (CR)', \n",
        "              'Reload (FR)', 'Recoil', 'Spread', 'Spread Run', 'Spread Stand','Spread Crouch'],axis=1,inplace=True)\n",
        "#Mengubah Isi dari Kolom dengan numerik\n",
        "dataset['Team']=dataset.Team.map({'T':0,'CT':1})\n",
        "dataset.head()"
      ],
      "metadata": {
        "colab": {
          "base_uri": "https://localhost:8080/",
          "height": 206
        },
        "id": "boPyk9YGGcx3",
        "outputId": "1a3a6146-0d4b-441d-fc5b-2edeb0126350"
      },
      "execution_count": 4,
      "outputs": [
        {
          "output_type": "execute_result",
          "data": {
            "text/plain": [
              "   Team  Damage  DPS\n",
              "0     0      36  360\n",
              "1     1      28  311\n",
              "2     0     115   79\n",
              "3     0      33  300\n",
              "4     0      63  280"
            ],
            "text/html": [
              "\n",
              "  <div id=\"df-31c82f56-688c-4bef-a61d-357aa61f5e64\">\n",
              "    <div class=\"colab-df-container\">\n",
              "      <div>\n",
              "<style scoped>\n",
              "    .dataframe tbody tr th:only-of-type {\n",
              "        vertical-align: middle;\n",
              "    }\n",
              "\n",
              "    .dataframe tbody tr th {\n",
              "        vertical-align: top;\n",
              "    }\n",
              "\n",
              "    .dataframe thead th {\n",
              "        text-align: right;\n",
              "    }\n",
              "</style>\n",
              "<table border=\"1\" class=\"dataframe\">\n",
              "  <thead>\n",
              "    <tr style=\"text-align: right;\">\n",
              "      <th></th>\n",
              "      <th>Team</th>\n",
              "      <th>Damage</th>\n",
              "      <th>DPS</th>\n",
              "    </tr>\n",
              "  </thead>\n",
              "  <tbody>\n",
              "    <tr>\n",
              "      <th>0</th>\n",
              "      <td>0</td>\n",
              "      <td>36</td>\n",
              "      <td>360</td>\n",
              "    </tr>\n",
              "    <tr>\n",
              "      <th>1</th>\n",
              "      <td>1</td>\n",
              "      <td>28</td>\n",
              "      <td>311</td>\n",
              "    </tr>\n",
              "    <tr>\n",
              "      <th>2</th>\n",
              "      <td>0</td>\n",
              "      <td>115</td>\n",
              "      <td>79</td>\n",
              "    </tr>\n",
              "    <tr>\n",
              "      <th>3</th>\n",
              "      <td>0</td>\n",
              "      <td>33</td>\n",
              "      <td>300</td>\n",
              "    </tr>\n",
              "    <tr>\n",
              "      <th>4</th>\n",
              "      <td>0</td>\n",
              "      <td>63</td>\n",
              "      <td>280</td>\n",
              "    </tr>\n",
              "  </tbody>\n",
              "</table>\n",
              "</div>\n",
              "      <button class=\"colab-df-convert\" onclick=\"convertToInteractive('df-31c82f56-688c-4bef-a61d-357aa61f5e64')\"\n",
              "              title=\"Convert this dataframe to an interactive table.\"\n",
              "              style=\"display:none;\">\n",
              "        \n",
              "  <svg xmlns=\"http://www.w3.org/2000/svg\" height=\"24px\"viewBox=\"0 0 24 24\"\n",
              "       width=\"24px\">\n",
              "    <path d=\"M0 0h24v24H0V0z\" fill=\"none\"/>\n",
              "    <path d=\"M18.56 5.44l.94 2.06.94-2.06 2.06-.94-2.06-.94-.94-2.06-.94 2.06-2.06.94zm-11 1L8.5 8.5l.94-2.06 2.06-.94-2.06-.94L8.5 2.5l-.94 2.06-2.06.94zm10 10l.94 2.06.94-2.06 2.06-.94-2.06-.94-.94-2.06-.94 2.06-2.06.94z\"/><path d=\"M17.41 7.96l-1.37-1.37c-.4-.4-.92-.59-1.43-.59-.52 0-1.04.2-1.43.59L10.3 9.45l-7.72 7.72c-.78.78-.78 2.05 0 2.83L4 21.41c.39.39.9.59 1.41.59.51 0 1.02-.2 1.41-.59l7.78-7.78 2.81-2.81c.8-.78.8-2.07 0-2.86zM5.41 20L4 18.59l7.72-7.72 1.47 1.35L5.41 20z\"/>\n",
              "  </svg>\n",
              "      </button>\n",
              "      \n",
              "  <style>\n",
              "    .colab-df-container {\n",
              "      display:flex;\n",
              "      flex-wrap:wrap;\n",
              "      gap: 12px;\n",
              "    }\n",
              "\n",
              "    .colab-df-convert {\n",
              "      background-color: #E8F0FE;\n",
              "      border: none;\n",
              "      border-radius: 50%;\n",
              "      cursor: pointer;\n",
              "      display: none;\n",
              "      fill: #1967D2;\n",
              "      height: 32px;\n",
              "      padding: 0 0 0 0;\n",
              "      width: 32px;\n",
              "    }\n",
              "\n",
              "    .colab-df-convert:hover {\n",
              "      background-color: #E2EBFA;\n",
              "      box-shadow: 0px 1px 2px rgba(60, 64, 67, 0.3), 0px 1px 3px 1px rgba(60, 64, 67, 0.15);\n",
              "      fill: #174EA6;\n",
              "    }\n",
              "\n",
              "    [theme=dark] .colab-df-convert {\n",
              "      background-color: #3B4455;\n",
              "      fill: #D2E3FC;\n",
              "    }\n",
              "\n",
              "    [theme=dark] .colab-df-convert:hover {\n",
              "      background-color: #434B5C;\n",
              "      box-shadow: 0px 1px 3px 1px rgba(0, 0, 0, 0.15);\n",
              "      filter: drop-shadow(0px 1px 2px rgba(0, 0, 0, 0.3));\n",
              "      fill: #FFFFFF;\n",
              "    }\n",
              "  </style>\n",
              "\n",
              "      <script>\n",
              "        const buttonEl =\n",
              "          document.querySelector('#df-31c82f56-688c-4bef-a61d-357aa61f5e64 button.colab-df-convert');\n",
              "        buttonEl.style.display =\n",
              "          google.colab.kernel.accessAllowed ? 'block' : 'none';\n",
              "\n",
              "        async function convertToInteractive(key) {\n",
              "          const element = document.querySelector('#df-31c82f56-688c-4bef-a61d-357aa61f5e64');\n",
              "          const dataTable =\n",
              "            await google.colab.kernel.invokeFunction('convertToInteractive',\n",
              "                                                     [key], {});\n",
              "          if (!dataTable) return;\n",
              "\n",
              "          const docLinkHtml = 'Like what you see? Visit the ' +\n",
              "            '<a target=\"_blank\" href=https://colab.research.google.com/notebooks/data_table.ipynb>data table notebook</a>'\n",
              "            + ' to learn more about interactive tables.';\n",
              "          element.innerHTML = '';\n",
              "          dataTable['output_type'] = 'display_data';\n",
              "          await google.colab.output.renderOutput(dataTable, element);\n",
              "          const docLink = document.createElement('div');\n",
              "          docLink.innerHTML = docLinkHtml;\n",
              "          element.appendChild(docLink);\n",
              "        }\n",
              "      </script>\n",
              "    </div>\n",
              "  </div>\n",
              "  "
            ]
          },
          "metadata": {},
          "execution_count": 4
        }
      ]
    },
    {
      "cell_type": "code",
      "source": [
        "#membuat matrixplot dan menampilkan korelasi antar atribut\n",
        "corr = dataset.corr()\n",
        "sns.heatmap(corr,annot=True,cmap=\"magma\")"
      ],
      "metadata": {
        "colab": {
          "base_uri": "https://localhost:8080/",
          "height": 286
        },
        "id": "CF8K7uYFGecR",
        "outputId": "16e31606-669d-46b3-c31f-3f7381dec937"
      },
      "execution_count": 5,
      "outputs": [
        {
          "output_type": "execute_result",
          "data": {
            "text/plain": [
              "<matplotlib.axes._subplots.AxesSubplot at 0x7f04f2ed3410>"
            ]
          },
          "metadata": {},
          "execution_count": 5
        },
        {
          "output_type": "display_data",
          "data": {
            "text/plain": [
              "<Figure size 432x288 with 2 Axes>"
            ],
            "image/png": "[encoded data removed]"
          },
          "metadata": {
            "needs_background": "light"
          }
        }
      ]
    },
    {
      "cell_type": "code",
      "source": [
        "#Menjalankan algoritma PCA dengan mendefinisikan variabel pca sebagai objek untuk PCA\n",
        "pca = PCA(n_components=2)\n",
        "dataset= pca.fit_transform(dataset)\n",
        "dataset.shape"
      ],
      "metadata": {
        "colab": {
          "base_uri": "https://localhost:8080/"
        },
        "id": "o7hj0dWaIslp",
        "outputId": "38e985c7-5faa-432c-ec23-49cc5275aeb1"
      },
      "execution_count": 6,
      "outputs": [
        {
          "output_type": "execute_result",
          "data": {
            "text/plain": [
              "(32, 2)"
            ]
          },
          "metadata": {},
          "execution_count": 6
        }
      ]
    },
    {
      "cell_type": "code",
      "source": [
        "#Menentukan dan menkonfigurasi fungsi kmeans.\n",
        "km= KMeans(n_clusters=3,random_state=42)\n",
        "km"
      ],
      "metadata": {
        "colab": {
          "base_uri": "https://localhost:8080/"
        },
        "id": "kYpz2XGtKUEj",
        "outputId": "4cddb435-4220-4d68-c974-79c539f292fd"
      },
      "execution_count": 7,
      "outputs": [
        {
          "output_type": "execute_result",
          "data": {
            "text/plain": [
              "KMeans(n_clusters=3, random_state=42)"
            ]
          },
          "metadata": {},
          "execution_count": 7
        }
      ]
    },
    {
      "cell_type": "code",
      "source": [
        "#menampilkan array dari fungsi k-means\n",
        "label = km.fit_predict(dataset)\n",
        "label"
      ],
      "metadata": {
        "colab": {
          "base_uri": "https://localhost:8080/"
        },
        "id": "Y4k0hODLLUwS",
        "outputId": "924a95db-9628-4eff-998d-48e03a6223a3"
      },
      "execution_count": 8,
      "outputs": [
        {
          "output_type": "execute_result",
          "data": {
            "text/plain": [
              "array([0, 0, 1, 0, 0, 0, 0, 1, 0, 0, 1, 0, 0, 0, 0, 0, 0, 0, 2, 0, 1, 1,\n",
              "       0, 0, 0, 0, 0, 1, 0, 0, 1, 0], dtype=int32)"
            ]
          },
          "metadata": {},
          "execution_count": 8
        }
      ]
    },
    {
      "cell_type": "code",
      "source": [
        "#Menampilkan info baris dan kolom dari array yang telah dilakukan\n",
        "label_0 = dataset[label == 0]\n",
        "label_0.shape"
      ],
      "metadata": {
        "colab": {
          "base_uri": "https://localhost:8080/"
        },
        "id": "bvsOugAELckI",
        "outputId": "5545ca4a-ce00-418f-eafb-02511d4426b0"
      },
      "execution_count": 9,
      "outputs": [
        {
          "output_type": "execute_result",
          "data": {
            "text/plain": [
              "(24, 2)"
            ]
          },
          "metadata": {},
          "execution_count": 9
        }
      ]
    },
    {
      "cell_type": "code",
      "source": [
        "#Visualisasi pada plot dari array\n",
        "label_0 = dataset[label == 0]\n",
        "label_1 = dataset[label == 1]\n",
        "label_2 = dataset[label == 2]\n",
        "\n",
        "plt.scatter(label_0[:,0],label_0[:,1])\n",
        "plt.scatter(label_1[:,0],label_1[:,1])\n",
        "plt.scatter(label_2[:,0],label_2[:,1])\n",
        "\n",
        "plt.show()"
      ],
      "metadata": {
        "colab": {
          "base_uri": "https://localhost:8080/",
          "height": 265
        },
        "id": "oa4f_1P4L3s4",
        "outputId": "96131dd3-cf65-4d05-ebe7-ccc323c63cd3"
      },
      "execution_count": 10,
      "outputs": [
        {
          "output_type": "display_data",
          "data": {
            "text/plain": [
              "<Figure size 432x288 with 1 Axes>"
            ],
            "image/png": "[encoded data removed]"
          },
          "metadata": {
            "needs_background": "light"
          }
        }
      ]
    },
    {
      "cell_type": "code",
      "source": [
        "#Menentukan Sum of Square Error\n",
        "sse= []\n",
        "for k in range(1,10):\n",
        "    km= KMeans(n_clusters=k,random_state=42)\n",
        "    km.fit_predict(dataset)\n",
        "    sse.append(km.inertia_)\n",
        "sse"
      ],
      "metadata": {
        "colab": {
          "base_uri": "https://localhost:8080/"
        },
        "id": "2vEsEBXJMeWB",
        "outputId": "5488cee7-77f7-43b2-83e3-f09847fb8fb5"
      },
      "execution_count": 11,
      "outputs": [
        {
          "output_type": "execute_result",
          "data": {
            "text/plain": [
              "[299691.57010342076,\n",
              " 132900.10155117835,\n",
              " 73597.38752125084,\n",
              " 34440.21555570521,\n",
              " 16012.279115426898,\n",
              " 10159.930859004297,\n",
              " 5967.326973123763,\n",
              " 4556.509723370822,\n",
              " 3251.4604995576688]"
            ]
          },
          "metadata": {},
          "execution_count": 11
        }
      ]
    },
    {
      "cell_type": "code",
      "source": [
        "#Visualisasi SSE\n",
        "plt.plot(range(1,10),sse,marker='o')\n",
        "plt.xlabel('K')\n",
        "plt.ylabel('Sum of Squared Error')"
      ],
      "metadata": {
        "colab": {
          "base_uri": "https://localhost:8080/",
          "height": 296
        },
        "id": "ikPbK6zwMvSJ",
        "outputId": "4b3ff43f-9d6b-478c-88e0-9953193fce6d"
      },
      "execution_count": 12,
      "outputs": [
        {
          "output_type": "execute_result",
          "data": {
            "text/plain": [
              "Text(0, 0.5, 'Sum of Squared Error')"
            ]
          },
          "metadata": {},
          "execution_count": 12
        },
        {
          "output_type": "display_data",
          "data": {
            "text/plain": [
              "<Figure size 432x288 with 1 Axes>"
            ],
            "image/png": "[encoded data removed]"
          },
          "metadata": {
            "needs_background": "light"
          }
        }
      ]
    },
    {
      "cell_type": "code",
      "source": [
        "#Menentukan dan menkonfigurasi fungsi kmeans clustering\n",
        "km = KMeans(n_clusters=5,random_state=42)\n",
        "label = km.fit_predict(dataset)\n",
        "\n",
        "u_labels= np.unique(label)\n",
        "\n",
        "centroids= km.cluster_centers_\n",
        "centroids"
      ],
      "metadata": {
        "colab": {
          "base_uri": "https://localhost:8080/"
        },
        "id": "7-noJevJM6_A",
        "outputId": "dadd3860-4f4d-4194-931a-c4f48c531132"
      },
      "execution_count": 22,
      "outputs": [
        {
          "output_type": "execute_result",
          "data": {
            "text/plain": [
              "array([[  -9.67829678,    3.76234752],\n",
              "       [ -95.96537694,  -17.72076945],\n",
              "       [ 275.26363228,   27.76864766],\n",
              "       [  55.4561269 ,   -3.29519654],\n",
              "       [-237.51977818,   34.67223795]])"
            ]
          },
          "metadata": {},
          "execution_count": 22
        }
      ]
    },
    {
      "cell_type": "code",
      "source": [
        "#Visualisasi Clustering\n",
        "for i in u_labels:\n",
        "    plt.scatter(dataset[label == i , 0] , dataset[label == i , 1] , label = i)\n",
        "    plt.legend()\n",
        "plt.scatter(centroids[:,0] , centroids[:,1] , s=300, color = 'yellow') \n",
        "plt.xlabel('DPS') \n",
        "plt.ylabel('Damage')\n",
        "plt.show()"
      ],
      "metadata": {
        "colab": {
          "base_uri": "https://localhost:8080/",
          "height": 279
        },
        "id": "XvbqofMRNEPx",
        "outputId": "3e9adcbd-ce1c-45ae-afbe-bc8afa3fc97e"
      },
      "execution_count": 25,
      "outputs": [
        {
          "output_type": "display_data",
          "data": {
            "text/plain": [
              "<Figure size 432x288 with 1 Axes>"
            ],
            "image/png": "[encoded data removed]"
          },
          "metadata": {
            "needs_background": "light"
          }
        }
      ]
    }
  ]
}